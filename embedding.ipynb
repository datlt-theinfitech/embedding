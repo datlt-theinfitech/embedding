{
 "cells": [
  {
   "cell_type": "code",
   "execution_count": null,
   "id": "b4beef81",
   "metadata": {},
   "outputs": [],
   "source": [
    "!pip install sentence-transformers"
   ]
  },
  {
   "cell_type": "code",
   "execution_count": null,
   "id": "97444c62",
   "metadata": {},
   "outputs": [],
   "source": [
    "from sentence_transformers import SentenceTransformer\n",
    "from pyarrow.fs import S3FileSystem\n",
    "import pyarrow.parquet as pq\n",
    "import pyarrow as pa\n",
    "\n",
    "# Initialize the model\n",
    "model = SentenceTransformer(\"jinaai/jina-embeddings-v3\", trust_remote_code=True)\n",
    "\n",
    "# Initialize S3 filesystem\n",
    "fs = S3FileSystem(access_key='B53zPFuC9ScfhJV9', secret_key='h7jAiZty4JqAGBSEN0M1LqgHyWc18otP', scheme='http', endpoint_override='10.0.0.21:32222')"
   ]
  },
  {
   "cell_type": "code",
   "execution_count": null,
   "id": "11de0fa0",
   "metadata": {},
   "outputs": [],
   "source": [
    "from delta.tables import DeltaTable\n",
    "\n",
    "# Read master company table\n",
    "master_companies_table = \"s3a://salessmart-warehouse/table/master/company\"\n",
    "table = DeltaTable.forPath(spark, master_companies_table)\n",
    "table_df = table.toDF()\n",
    "\n",
    "# Prepare data for embedding\n",
    "df = (\n",
    "    table_df\n",
    "        .select('corporate_number', 'name', 'business_content', 'meta_keywords', 'meta_descriptions', 'address')\n",
    "        .filter(table_df['business_content'].isNotNull())\n",
    "        .repartition(8000)\n",
    ")"
   ]
  },
  {
   "cell_type": "code",
   "execution_count": null,
   "id": "33100f24",
   "metadata": {},
   "outputs": [],
   "source": [
    "# Process data in batches and generate embeddings\n",
    "ids = []\n",
    "contents = []\n",
    "j = 0\n",
    "\n",
    "for i, row in enumerate(df.toLocalIterator(True)):\n",
    "    ids.append(row['corporate_number'])\n",
    "    content = f\"企業名：{row['name'] or ''}\\n住所：{row['address'] or ''}\\n企業概要：{row['business_content'] or ''}\\nメタキーワード：{row['meta_keywords'] or ''}\\nメタディスクリプション：{row['meta_descriptions'] or ''}\"\n",
    "    contents.append(content)\n",
    "    \n",
    "    if len(ids) >= 128:\n",
    "        print(f'Processing file: {j}')\n",
    "        document_embeddings = model.encode(contents, task='retrieval.passage')\n",
    "        table = pa.table({\n",
    "            'corporate_number': ids,\n",
    "            'embedding': list(document_embeddings)\n",
    "        })\n",
    "        pq.write_table(table, f'salessmart-warehouse/test_company_embedding/{j}.parquet', filesystem=fs)\n",
    "        j += 1\n",
    "        ids = []\n",
    "        contents = []"
   ]
  }
 ],
 "metadata": {
  "language_info": {
   "name": "python"
  }
 },
 "nbformat": 4,
 "nbformat_minor": 5
}
