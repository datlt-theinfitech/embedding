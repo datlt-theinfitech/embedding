{
 "cells": [
  {
   "cell_type": "code",
   "execution_count": 3,
   "id": "acaac5ae-08ad-4686-83a3-05f26f1729e8",
   "metadata": {},
   "outputs": [
    {
     "name": "stdout",
     "output_type": "stream",
     "text": [
      "Collecting pyspark==3.5.5\n",
      "  Using cached pyspark-3.5.5-py2.py3-none-any.whl\n",
      "Collecting delta-spark==3.0.0\n",
      "  Using cached delta_spark-3.0.0-py3-none-any.whl (21 kB)\n",
      "Collecting py4j==0.10.9.7\n",
      "  Using cached py4j-0.10.9.7-py2.py3-none-any.whl (200 kB)\n",
      "Requirement already satisfied: importlib-metadata>=1.0.0 in /opt/conda/lib/python3.10/site-packages (from delta-spark==3.0.0) (4.11.4)\n",
      "Requirement already satisfied: zipp>=0.5 in /opt/conda/lib/python3.10/site-packages (from importlib-metadata>=1.0.0->delta-spark==3.0.0) (3.9.0)\n",
      "Installing collected packages: py4j, pyspark, delta-spark\n",
      "Successfully installed delta-spark-3.0.0 py4j-0.10.9.7 pyspark-3.5.5\n"
     ]
    }
   ],
   "source": [
    "!pip install pyspark==3.5.5 delta-spark==3.0.0"
   ]
  },
  {
   "cell_type": "code",
   "execution_count": 32,
   "id": "a7a8ffa0-ab5d-4501-8876-079b6d0e8f8d",
   "metadata": {},
   "outputs": [
    {
     "data": {
      "text/plain": [
       "14561"
      ]
     },
     "execution_count": 32,
     "metadata": {},
     "output_type": "execute_result"
    }
   ],
   "source": [
    "spark.read.format(\"delta\").load('s3a://salessmart-warehouse/table/event_it/event/corporate_number').count()"
   ]
  },
  {
   "cell_type": "code",
   "execution_count": 31,
   "id": "82562ddb-b359-46a9-9178-7ff7a70dcf2e",
   "metadata": {},
   "outputs": [],
   "source": [
    "save_identified_corporate_numbers_table(spark, matched_df, 's3a://salessmart-warehouse/table/event_it/event/corporate_number', column='event_id')"
   ]
  },
  {
   "cell_type": "code",
   "execution_count": 46,
   "id": "cc677b3f-ce2f-4ab7-ae3e-5769923356f0",
   "metadata": {},
   "outputs": [],
   "source": [
    "from delta.tables import DeltaTable\n",
    "raw_table = DeltaTable.forPath(spark, \"s3a://salessmart-warehouse/table/event_it/event/raw\")\n",
    "normalized_table = DeltaTable.forPath(spark, \"s3a://salessmart-warehouse/table/event_it/event/normalized\")"
   ]
  },
  {
   "cell_type": "code",
   "execution_count": 47,
   "id": "a50beab1-e443-4aab-9580-9fe86103b995",
   "metadata": {},
   "outputs": [],
   "source": [
    "raw_table_df = raw_table.toDF()\n",
    "normalized_table_df = normalized_table.toDF()"
   ]
  },
  {
   "cell_type": "code",
   "execution_count": 44,
   "id": "7b5db124-69b3-4ebd-b591-ebcdfc941766",
   "metadata": {},
   "outputs": [
    {
     "data": {
      "text/plain": [
       "[Row(id='exh-002bc70b-5d9b-4672-911e-5617d4c394db_en-gb', season=None, domain=None, org_id='org-c03e0850-aa5d-4eee-af78-91fa9260fb4a', url=None),\n",
       " Row(id='exh-0039b813-16c1-4236-880d-5e560f5d0277_en-gb', season=None, domain=None, org_id='org-d52e3474-9a4d-4ef1-8b03-3020b482b02e', url=None),\n",
       " Row(id='exh-003e31f2-971e-45b1-a9c8-7268fc745289_ja-jp', season='autumn', domain='www.japan-it.jp', org_id='org-4684db30-310f-4522-9aac-4a2d71d15148', url='https://www.japan-it.jp/autumn/search//directory/directory-details.org-4684db30-310f-4522-9aac-4a2d71d15148.html'),\n",
       " Row(id='exh-0054194d-cc99-42e7-b65b-c6c20221e190_en-gb', season='spring', domain='www.japan-it.jp', org_id='org-80464fc4-53f1-44ad-b826-10c6bcdce466', url='https://www.japan-it.jp/spring/search//directory/directory-details.org-80464fc4-53f1-44ad-b826-10c6bcdce466.html'),\n",
       " Row(id='exh-0054518a-597b-4f72-8685-d72b05a51e30_en-gb', season='nagoya', domain='www.office-expo.jp', org_id='org-122ee9b5-f4d4-4767-80c3-cd49b5c91eef', url='https://www.office-expo.jp/nagoya/search//directory/directory-details.org-122ee9b5-f4d4-4767-80c3-cd49b5c91eef.html'),\n",
       " Row(id='exh-00584786-ccf2-42dd-9996-2e092c175356_ja-jp', season='osaka', domain='www.interphex.jp', org_id='org-265e9fe5-5620-4cb0-ab57-ae332988ffb2', url='https://www.interphex.jp/osaka/search//directory/directory-details.org-265e9fe5-5620-4cb0-ab57-ae332988ffb2.html'),\n",
       " Row(id='exh-005b2305-271f-41e1-a4c7-81dcfd5e062d_ja-jp', season='tokyo-1', domain='www.am-expo.jp', org_id='org-90fc2905-0ed0-4feb-b6b2-331bc777f04b', url='https://www.am-expo.jp/tokyo-1/search//directory/directory-details.org-90fc2905-0ed0-4feb-b6b2-331bc777f04b.html'),\n",
       " Row(id='exh-005bc414-e708-47cb-9281-7aa760d64236_en-gb', season='tokyo', domain='www.manufacturing-world.jp', org_id='org-e8e9861e-96a1-4d7a-bcac-96886f38ed8d', url='https://www.manufacturing-world.jp/tokyo/search//directory/directory-details.org-e8e9861e-96a1-4d7a-bcac-96886f38ed8d.html'),\n",
       " Row(id='exh-005e746e-89a3-4fe2-ba7f-fb04013d00ba_ja-jp', season='autumn', domain='www.ijt.jp', org_id='org-5c3fc0fa-42e2-4ad9-a0fc-c42969fd14b8', url='https://www.ijt.jp/autumn/search//directory/directory-details.org-5c3fc0fa-42e2-4ad9-a0fc-c42969fd14b8.html'),\n",
       " Row(id='exh-005ee4f9-ed16-4c39-8a02-90d044f47ce3_ja-jp', season='osaka', domain='www.material-expo.jp', org_id='org-0b618d7c-4239-4b9f-a5d8-1f4e588003ae', url='https://www.material-expo.jp/osaka/search//directory/directory-details.org-0b618d7c-4239-4b9f-a5d8-1f4e588003ae.html')]"
      ]
     },
     "execution_count": 44,
     "metadata": {},
     "output_type": "execute_result"
    }
   ],
   "source": [
    "raw_table_df.select('id', 'season', 'domain', F.get_json_object('data', '$.organisationGuid').alias('org_id')).withColumn('url',\n",
    ").head(10)\n",
    "\n",
    "# F.concat(F.lit('https://'), 'domain', F.lit('/'), 'season', F.lit('/search/'), F.lit('/directory/directory-details.'), 'org_id', F.lit('.html'))\n"
   ]
  },
  {
   "cell_type": "code",
   "execution_count": 51,
   "id": "dc135596-e4fa-4e8b-8c4c-f1f21ce4a3da",
   "metadata": {},
   "outputs": [],
   "source": [
    "normalized_table.merge(raw_table_df, raw_table_df['id'] == normalized_table_df['event_id']).whenMatchedUpdate(\n",
    "    set={\n",
    "        'source_event_url': F.concat(F.lit('https://'), raw_table_df['domain'], F.lit('/'), raw_table_df['season'], F.lit('/ja-jp/search/'), F.year(normalized_table_df['event_start_time']), F.lit('/directory/directory-details.'), normalized_table_df['event_organization_id'], F.lit('.html'))\n",
    "    },\n",
    ").execute()"
   ]
  },
  {
   "cell_type": "code",
   "execution_count": null,
   "id": "6b9e381c-71da-47eb-a1df-15dd76ae4205",
   "metadata": {},
   "outputs": [],
   "source": [
    "from delta.tables import *\n",
    "import pyspark.sql.functions as F\n",
    "import traceback\n",
    "\n",
    "def update_employee(media, col, master_flag=False):\n",
    "    path = f\"s3a://salessmart-warehouse/table/{media}/company/normalized\"\n",
    "    try:\n",
    "        deltaTable = DeltaTable.forPath(spark, path)\n",
    "\n",
    "        update_col = 'updated_at'\n",
    "        if master_flag:\n",
    "            update_col = f'{col}_updated_at'\n",
    "        deltaTable.update(\n",
    "        condition = F.col(col)==F.lit(0),\n",
    "        set = {\n",
    "            col: F.lit(None),\n",
    "            update_col: F.current_timestamp()\n",
    "            }\n",
    "        )\n",
    "        print(f\"Update employee media {media} successfuly\")\n",
    "    except:\n",
    "        print(f\"Update employee media {media} failed\")\n",
    "        print(traceback.format_exc())"
   ]
  },
  {
   "cell_type": "code",
   "execution_count": null,
   "id": "6f29c23f-4e6c-42fc-a2f9-96a8332cd704",
   "metadata": {},
   "outputs": [],
   "source": [
    "media_col = [\n",
    "    {'name': 'doda', 'col': 'company_employee_count_normalized'},\n",
    "    {'name': 'shokuba', 'col': 'company_employee_count_normalized'},\n",
    "    {'name': 'wantedly', 'col': 'company_employee_count_normalized'},\n",
    "    {'name': 'rikunabi', 'col': 'company_employee_count_normalized'},\n",
    "    {'name': 'career_connection', 'col': 'company_employee_count_normalized'},\n",
    "    {'name': 'mynavi_tenshoku', 'col': 'company_employee_count_normalized'},\n",
    "    {'name': 'rikunabi_shinsotsu', 'col': 'company_employee_count_normalized'},\n",
    "    {'name': 'mynavi_shinsotsu', 'col': 'company_employee_count_normalized'},\n",
    "    {'name': 'type', 'col': 'company_employee_count_normalized'},\n",
    "    {'name': 'hellowork', 'col': 'company_employee_count_normalized'},\n",
    "    {'name': 'bizreach', 'col': 'company_employee_count_normalized'},\n",
    "    {'name': 'en_hyouban', 'col': 'company_employee_count'},\n",
    "    {'name': 'salesnow', 'col': 'company_employee_count'},\n",
    "    {'name': 'nikkei', 'col': 'company_employee_count'},\n",
    "    {'name': 'startup_db', 'col': 'company_employees_count_normalized'},\n",
    "]\n",
    "for item in media_col:\n",
    "    update_employee(item['name'], item['col'])"
   ]
  },
  {
   "cell_type": "code",
   "execution_count": 8,
   "id": "0047be7a-4a1a-4207-81f6-c0034f811cd8",
   "metadata": {},
   "outputs": [
    {
     "name": "stdout",
     "output_type": "stream",
     "text": [
      "Starting update operation...\n",
      "===============> Step 1: <===============\n",
      "Update completed in 847.76 seconds!\n"
     ]
    }
   ],
   "source": [
    "from delta.tables import DeltaTable \n",
    "from pyspark.sql import functions as F\n",
    "import time\n",
    "\n",
    "master_person_path = \"s3a://salessmart-warehouse/table/master/person\"\n",
    "delta_table = DeltaTable.forPath(spark, master_person_path)\n",
    "\n",
    "print(\"Starting update operation...\")\n",
    "start_time = time.time()\n",
    "\n",
    "current_timestamp = F.current_timestamp()\n",
    "\n",
    "print(\"===============> Step 1: <===============\")\n",
    "delta_table.update(\n",
    "    condition = (F.col(\"person_positions\").isNull()) & (F.col(\"person_position_groups\").isNotNull()),\n",
    "    set = {\n",
    "        \"person_position_groups\": F.lit(None),\n",
    "        \"person_position_groups_updated_at\": current_timestamp,\n",
    "        \"updated_at\": current_timestamp\n",
    "    }\n",
    ")\n",
    "\n",
    "end_time = time.time()\n",
    "print(f\"Update completed in {end_time - start_time:.2f} seconds!\")"
   ]
  },
  {
   "cell_type": "code",
   "execution_count": 4,
   "id": "19ca02fa-5db1-492c-92ca-cf9fa2d81f73",
   "metadata": {},
   "outputs": [
    {
     "name": "stdout",
     "output_type": "stream",
     "text": [
      "Starting update operation...\n",
      "===============> Step 2: <===============\n",
      "Update completed in 239.86 seconds!\n"
     ]
    }
   ],
   "source": [
    "from delta.tables import DeltaTable \n",
    "from pyspark.sql import functions as F\n",
    "import time\n",
    "\n",
    "master_person_path = \"s3a://salessmart-warehouse/table/master/person\"\n",
    "delta_table = DeltaTable.forPath(spark, master_person_path)\n",
    "\n",
    "print(\"Starting update operation...\")\n",
    "start_time = time.time()\n",
    "\n",
    "current_timestamp = F.current_timestamp()\n",
    "\n",
    "\n",
    "print(\"===============> Step 2: <===============\")\n",
    "delta_table.update(\n",
    "    condition = (\n",
    "        (F.size(F.col(\"person_positions\")) == 0) &\n",
    "        (F.size(F.col(\"person_position_groups\")) == 1) &\n",
    "        (F.array_contains(F.col(\"person_position_groups\"), \"その他\"))\n",
    "    ),\n",
    "    set = {\n",
    "        \"person_position_groups\": F.array(),\n",
    "        \"person_position_groups_updated_at\": current_timestamp,\n",
    "        \"updated_at\": current_timestamp\n",
    "    }\n",
    ")\n",
    "\n",
    "end_time = time.time()\n",
    "print(f\"Update completed in {end_time - start_time:.2f} seconds!\")"
   ]
  },
  {
   "cell_type": "code",
   "execution_count": 5,
   "id": "298bb654-fcb0-4584-af6a-f4821f56f31e",
   "metadata": {},
   "outputs": [
    {
     "name": "stdout",
     "output_type": "stream",
     "text": [
      "Starting update operation...\n",
      "===============> Step 3: <===============\n",
      "Update completed in 473.41 seconds!\n"
     ]
    }
   ],
   "source": [
    "from delta.tables import DeltaTable\n",
    "from pyspark.sql import functions as F\n",
    "import time\n",
    "\n",
    "master_person_path = \"s3a://salessmart-warehouse/table/master/person\"\n",
    "delta_table = DeltaTable.forPath(spark, master_person_path)\n",
    "\n",
    "print(\"Starting update operation...\")\n",
    "start_time = time.time()\n",
    "\n",
    "current_timestamp = F.current_timestamp()\n",
    "print(\"===============> Step 3: <===============\")  \n",
    "delta_table.update(\n",
    "    condition = F.lit(True),\n",
    "    set = {\n",
    "        \"person_position_groups_quality\": F.lit(0)\n",
    "    }\n",
    ")\n",
    "\n",
    "end_time = time.time()\n",
    "print(f\"Update completed in {end_time - start_time:.2f} seconds!\")\n"
   ]
  },
  {
   "cell_type": "code",
   "execution_count": null,
   "id": "625877cb-3caa-44cb-b5d4-58ce31adcd7e",
   "metadata": {},
   "outputs": [],
   "source": [
    "\n",
    "from delta.tables import DeltaTable\n",
    "from pyspark.sql import functions as F\n",
    "import time\n",
    "\n",
    "master_person_path = \"s3a://salessmart-warehouse/table/master/person\"\n",
    "delta_table = DeltaTable.forPath(spark, master_person_path)\n",
    "\n",
    "print(\"Starting update operation...\")\n",
    "start_time = time.time()\n",
    "current_timestamp = F.current_timestamp()\n",
    "\n",
    "# Điều kiện: person_positions không phải NULL, cardinality = 0, và person_position_groups là NULL\n",
    "print(\"===============> Updating records with specified condition: <===============\")  \n",
    "delta_table.update(\n",
    "    condition = (F.col(\"person_positions\").isNotNull()) & \n",
    "                (F.size(F.col(\"person_positions\")) == 0) & \n",
    "                (F.col(\"person_position_groups\").isNull()),\n",
    "    set = {\n",
    "        \"person_position_groups\": F.array()\n",
    "    }\n",
    ")"
   ]
  },
  {
   "cell_type": "code",
   "execution_count": 16,
   "id": "bf6ba140-4185-4782-8d8b-7c9e7c638cb2",
   "metadata": {},
   "outputs": [],
   "source": [
    "path = \"s3a://salessmart-warehouse/table/master/company\"\n",
    "master_company_df = spark.read.format('delta').load(path)\n",
    "\n",
    "# Lấy max hp_url_quality theo hp_url\n",
    "max_quality_df = master_company_df.groupBy(\"hp_url\") \\\n",
    "                                 .agg(F.max(\"hp_url_quality\").alias(\"max_quality\"))\n",
    "\n",
    "# Lấy ra những cty có trùng hp_url, hp_url_quality nhỏ hơn max và hp_url_quality bằng 100\n",
    "result_df = master_company_df.alias(\"t\") \\\n",
    "                           .join(max_quality_df.alias(\"m\"),\n",
    "                                F.col(\"t.hp_url\") == F.col(\"m.hp_url\"),\n",
    "                                 \"inner\") \\\n",
    "                           .filter(\n",
    "                               (F.col(\"t.hp_url_quality\") < F.col(\"m.max_quality\"))\\\n",
    "                                &(F.col(\"t.hp_url_quality\") == F.lit(100))) \\\n",
    "                           .select(\n",
    "                               F.col(\"t.corporate_number\"),\n",
    "                               F.col(\"t.hp_url\"),\n",
    "                           )"
   ]
  },
  {
   "cell_type": "code",
   "execution_count": 17,
   "id": "b0b7402c-60be-486f-8472-96d5995e2b7c",
   "metadata": {},
   "outputs": [
    {
     "data": {
      "text/plain": [
       "223"
      ]
     },
     "execution_count": 17,
     "metadata": {},
     "output_type": "execute_result"
    }
   ],
   "source": [
    "result_df.count()"
   ]
  },
  {
   "cell_type": "code",
   "execution_count": 18,
   "id": "ed0e3df3-c371-4605-9f2d-1f0c61ad5b0f",
   "metadata": {},
   "outputs": [],
   "source": [
    "# Set null những cty có hp_url chung và quality thấp hơn (100)\n",
    "table = DeltaTable.forPath(spark, path)\n",
    "table_df = table.toDF()\n",
    "table.alias(\"target\").merge(\n",
    "    result_df.alias(\"source\"),\n",
    "    table_df.corporate_number == result_df.corporate_number\n",
    ").whenMatchedUpdate(\n",
    "    set={\n",
    "        \"hp_url\": F.lit(None),\n",
    "        \"hp_url_quality\": F.lit(None),\n",
    "        \"hp_url_updated_at\": F.current_timestamp(),\n",
    "    }\n",
    ").execute()"
   ]
  },
  {
   "cell_type": "code",
   "execution_count": 2,
   "id": "b23a9a07-dfba-4115-827e-7a3b08279d77",
   "metadata": {},
   "outputs": [],
   "source": [
    "import re\n",
    "\n",
    "ROLES = {\n",
    "    \"社長\": {\n",
    "        \"社長関連\": ['社長', 'President', '代表取締役社長', '代表社長', 'CEO', '最高経営責任者', 'Chief Executive Officer', \n",
    "               '代表取締役CEO', 'Chief Executive'],\n",
    "        \"副社長\": ['Vice President', 'VP', '副社長', 'Senior Vice President', 'SVP', 'Executive Vice President', 'EVP'],\n",
    "    },\n",
    "    \"役員クラス\": {\n",
    "        \"役員\": ['役員', '執行役員', '常務執行役員', '専務執行役員', '上席執行役員', 'Executive Officer', 'Managing Executive Officer',\n",
    "              'COO', 'CFO', 'CTO', 'CMO', 'CIO', 'CPO', 'CDO', 'CSO', 'CHRO', '最高執行責任者', '最高財務責任者', \n",
    "              '最高技術責任者', '最高マーケティング責任者', 'Managing Director'],\n",
    "        \"取締役\": ['取締役', '取締役会', '取締役副社長', '取締役会長', '取締役専務', '取締役常務', '取締役執行役員', '社外取締役',\n",
    "                'Board Director', 'Board Member'],\n",
    "        \"創業者\": ['Founder', 'Co-Founder', '創業者', '共同創業者', '創立者'],\n",
    "        \"会長\": ['会長', 'Chairman', '代表取締役会長'],\n",
    "        \"代表\": ['代表', '代表取締役', 'Representative Director'],\n",
    "        \n",
    "        \"役員クラス一般\": ['役員クラス', 'Executive', 'エグゼクティブ', 'C-Level', 'C-Suite', 'Executive Committee', 'ExCo',\n",
    "                    'Senior Leadership Team', 'SLT', 'Top Management', 'トップマネジメント']\n",
    "    },\n",
    "    \n",
    "    \"責任者クラス\": {\n",
    "        \"部長\": ['部長', '部長代理', '部長代行', '副部長', '部長補佐', '部次長', 'Department Manager', 'Division Manager', 'Head of Department', \n",
    "              'Department Head', 'Division Head'],\n",
    "        \"課長\": ['課長', '課長代理', '課長補佐', '副課長', '担当課長', 'Section Chief', 'Section Manager'],\n",
    "        \"室長\": ['室長', '室長代理', '室長補佐'],\n",
    "        \"所長\": ['所長', '所長代理', '副所長', '支店長', '支社長', '支店長代理', '支社長代理', 'Branch Manager', 'Office Manager'],\n",
    "        \"事業部管理\": ['事業部長', '副事業部長', '本部長', '副本部長', '統括部長', '統括マネージャー', '統括責任者'],\n",
    "        \"主任\": ['主任', '主任研究員', '主任技師', '主任調査役', '主任コンサルタント'],\n",
    "        \"係長\": ['係長', '係長代理'],\n",
    "        \"マネージャー全般\": ['Manager', 'マネージャー', 'Director', 'ディレクター', 'Head', 'Lead', 'リーダー', \n",
    "                     'チームリーダー', 'Team Lead', 'Supervisor', '管理者', 'Group Manager', 'Unit Manager', 'Team Manager'],\n",
    "        \"セールスマネジメント\": ['Sales Manager', 'セールスマネージャー', '営業マネージャー', 'Sales Director', 'Sales Team Leader', \n",
    "                      'Regional Sales Manager', 'National Sales Manager', 'Head of Sales'],\n",
    "        \"マーケティングマネジメント\": ['Marketing Manager', 'マーケティングマネージャー', 'Marketing Director', 'Head of Marketing',\n",
    "                         'Digital Marketing Manager', 'Brand Manager', 'Product Marketing Manager'],\n",
    "        \"技術マネジメント\": ['Engineering Manager', 'エンジニアリングマネージャー', 'Technical Manager', 'テクニカルマネージャー', \n",
    "                    'Development Manager', '開発マネージャー', 'IT Manager', 'ITマネージャー', 'R&D Manager', 'Tech Lead'],\n",
    "        \"人事マネジメント\": ['HR Manager', '人事マネージャー', 'HR Director', '人事ディレクター', 'HR Head', 'Head of HR',\n",
    "                     'Human Resources Manager', 'Human Resources Director', '人事部長', '人事部長代理', 'Talent Manager'],\n",
    "        \"財務マネジメント\": ['Finance Manager', 'Financial Manager', 'Finance Director', 'Financial Director', 'Accounting Manager'],\n",
    "        \"オペレーションマネジメント\": ['Operations Manager', 'オペレーションマネージャー', 'Operations Director', 'Head of Operations', \n",
    "                         'Facilities Manager', 'Administrative Manager', 'Office Manager'],\n",
    "        \"顧客マネジメント\": ['Customer Success Manager', 'カスタマーサクセスマネージャー', 'Customer Service Manager',\n",
    "                     'カスタマーサービスマネージャー', 'Client Service Manager', 'Account Manager']\n",
    "    },\n",
    "    \n",
    "    \"プロジェクトマネジャー\": {\n",
    "        \"プロジェクト管理\": ['Project Manager', 'プロジェクトマネージャー', 'Project Management', 'PM', 'Project Lead', \n",
    "                     'Project Coordinator', 'Project Administrator', 'Project Support', 'Program Coordinator', \n",
    "                     'Project Scheduler', 'Project Management Office', 'PMO', 'Scrum Master', 'スクラムマスター', \n",
    "                     'Agile Coach', 'アジャイルコーチ', 'Delivery Manager', 'Release Manager', 'Implementation Manager', \n",
    "                     'プロジェクト責任者', 'Technical Project Manager', 'テクニカルプロジェクトマネージャー'],\n",
    "        \"プログラムマネジメント\": ['Program Manager', 'プログラムマネージャー', 'Program Management', 'Program Lead'],\n",
    "        \"プロダクトマネジメント\": ['Product Manager', 'プロダクトマネージャー', 'Product Owner', 'プロダクトオーナー'],\n",
    "        \"プロジェクトディレクション\": ['プロジェクトディレクター', 'Senior Project Manager', 'シニアプロジェクトマネージャー']\n",
    "    },\n",
    "    \n",
    "    \"営業\": {\n",
    "        \"セールス\": ['Sales', 'セールス', '営業', 'Sales Representative', 'Sales Executive', 'Sales Associate', 'Sales Specialist', \n",
    "                 'Sales Consultant', 'Account Executive', 'Account Representative', 'Field Sales', 'Inside Sales', 'インサイドセールス']\n",
    "    },\n",
    "    \n",
    "    \"事業企画/事業開発\": {\n",
    "        \"ビジネス開発\": ['Business Development', 'ビジネス開発', '事業開発', 'Strategic Partnerships', 'Partnership', 'Alliances', '事業企画']\n",
    "    },\n",
    "    \n",
    "    \"経営企画\": {\n",
    "        \"経営企画\": ['経営企画', 'Corporate Planning', 'Strategic Planning', 'Business Planning', 'Strategy', '戦略企画', '経営戦略']\n",
    "    },\n",
    "    \n",
    "    \"カスタマーサポート/サクセス\": {\n",
    "        \"カスタマーサクセス\": ['Customer Success', 'カスタマーサクセス', 'Client Success', 'Customer Experience'],\n",
    "        \"カスタマーサポート\": ['Customer Support', 'カスタマーサポート', 'Customer Support Specialist', 'Customer Support Engineer', \n",
    "                      'Product Support', 'Client Support', 'User Support']\n",
    "    },\n",
    "    \n",
    "    \"マーケティング\": {\n",
    "        \"マーケティング\": ['Marketing', 'マーケティング', 'Marketing Specialist', 'Marketing Coordinator', 'Marketing Analyst', \n",
    "                    'Marketing Executive', 'Brand Specialist', 'Product Marketing'],\n",
    "        \"デジタルマーケティング\": ['Digital Marketing', 'デジタルマーケティング', 'SEO', 'SEM', 'Social Media Marketing', \n",
    "                        'ソーシャルメディアマーケティング', 'Content Marketing', 'Email Marketing', 'Web Marketing', 'Webマーケティング']\n",
    "    },\n",
    "    \n",
    "    \"広報/IR\": {\n",
    "        \"PR広報\": ['PR', 'Public Relations', '広報', 'Public Relations Specialist', '広報担当', 'Communications', 'コミュニケーション', \n",
    "                'Corporate Communications', 'IR', 'Investor Relations', '投資家広報']\n",
    "    },\n",
    "    \n",
    "    \"人事/人材\": {\n",
    "        \"採用\": ['Recruiter', 'リクルーター', 'Recruiting', '採用', 'Talent Acquisition', 'Talent Acquisition Specialist',\n",
    "              '採用担当', '採用担当者', 'HR Recruiter', '採用コンサルタント'],\n",
    "        \"人事一般\": ['HR', 'Human Resources', '人事', 'HR Specialist', 'HR Generalist', 'HR Business Partner', 'HRBP', 'HR Coordinator', \n",
    "                 'HR Assistant', 'HR Administrator'],\n",
    "        \"人材開発\": ['Training', 'Learning and Development', '人材開発', 'Training Specialist', 'L&D Specialist', 'People Development'],\n",
    "        \"労務\": ['Labor Relations', '労務', 'Employment Relations', '社会保険労務士', 'Labor Specialist']\n",
    "    },\n",
    "    \n",
    "    \"経理/財務\": {\n",
    "        \"会計\": ['Accountant', '会計士', 'Accounting', '会計', '経理', 'Senior Accountant', 'Staff Accountant', 'Accounting Assistant', \n",
    "              'Accounting Specialist'],\n",
    "        \"財務\": ['Finance', 'Financial', '財務', 'Financial Analyst', 'Treasury', 'Finance Specialist'],\n",
    "        \"税務\": ['Tax', '税理士', 'Tax Accountant', 'Tax Specialist', 'Tax Consultant']\n",
    "    },\n",
    "    \n",
    "    \"法務\": {\n",
    "        \"弁護士\": ['Lawyer', '弁護士', 'Attorney', 'Attorney at Law', 'Legal Counsel', 'Corporate Counsel', 'General Counsel', \n",
    "                'Associate Attorney', 'Senior Attorney', 'Partner Attorney'],\n",
    "        \"法務一般\": ['Legal', '法務', 'Legal Specialist', 'Legal Advisor', 'Legal Officer'],\n",
    "        \"知的財産\": ['Patent Attorney', '弁理士', 'Intellectual Property', '知的財産', 'IP Lawyer', 'IP Specialist',\n",
    "                 'Trademark Specialist', 'Copyright Specialist'],\n",
    "        \"コンプライアンス\": ['Compliance', 'コンプライアンス', 'Compliance Officer', 'Ethics Officer', 'Regulatory Compliance', \n",
    "                     'Compliance Specialist'],\n",
    "        \"パラリーガル\": ['Paralegal', 'パラリーガル', 'Legal Assistant', 'Legal Secretary', 'Legal Support', 'Law Clerk'],\n",
    "        \"契約管理\": ['Contract Administrator', 'Contract Specialist', 'Contract Analyst', 'Contract Negotiator']\n",
    "\n",
    "    },\n",
    "    \n",
    "    \"研究開発 (R&D)\": {\n",
    "        \"研究者\": ['Researcher', '研究者', '研究員', 'Research Scientist', 'Scientist', 'Research Fellow', 'Senior Researcher', \n",
    "                'シニアリサーチャー', 'Principal Researcher', 'Lead Researcher'],\n",
    "        \"博士研究\": ['Postdoctoral', 'Postdoc', 'Postdoctoral Researcher', 'Postdoctoral Fellow', 'Postdoctoral Research Associate', \n",
    "                 '博士研究員', '特別研究員'],\n",
    "        \"研究アシスタント\": ['Research Assistant', 'リサーチアシスタント', 'Lab Assistant', 'Graduate Assistant', 'Research Associate'],\n",
    "        \"科学研究\": ['Chemist', 'Biologist', 'Physicist', 'Materials Scientist', 'Environmental Scientist', 'Geologist',\n",
    "                  'Meteorologist', 'Oceanographer', 'R&D', 'Research and Development']\n",
    "    },\n",
    "    \n",
    "    \"技術/エンジニアリング\": {\n",
    "        \"ソフトウェアエンジニア\": ['Software Engineer', 'ソフトウェアエンジニア', 'Software Developer', 'ソフトウェア開発者', 'Developer', 'IT',\n",
    "                        'Programmer', 'プログラマー', 'Coder', 'コーダー'],\n",
    "        \"フロントエンド\": ['Frontend Engineer', 'Frontend Developer', 'フロントエンドエンジニア', 'フロントエンド開発者', 'UI Engineer', 'Front-end'],\n",
    "        \"バックエンド\": ['Backend Engineer', 'Backend Developer', 'バックエンドエンジニア', 'バックエンド開発者', 'Server Engineer', \n",
    "                   'サーバーエンジニア', 'Back-end'],\n",
    "        \"フルスタック\": ['Full Stack Engineer', 'Full Stack Developer', 'フルスタックエンジニア', 'フルスタック開発者'],\n",
    "        \"モバイル\": ['Mobile Engineer', 'Mobile Developer', 'モバイルエンジニア', 'モバイル開発者', 'iOS Engineer', 'iOS Developer', \n",
    "                 'iOSエンジニア', 'Android Engineer', 'Android Developer', 'Androidエンジニア'],\n",
    "        \"データサイエンス\": ['Data Scientist', 'データサイエンティスト', 'Data Engineer', 'データエンジニア', 'Data Analyst', 'データアナリスト', \n",
    "                     'Machine Learning Engineer', '機械学習エンジニア', 'AI Engineer', 'AIエンジニア'],\n",
    "        \"セキュリティ\": ['Security Engineer', 'セキュリティエンジニア', 'Information Security', 'Cyber Security', 'Security Specialist'],\n",
    "        \"インフラ\": ['Infrastructure Engineer', 'インフラエンジニア', 'DevOps', 'DevOpsエンジニア', 'SRE', 'Site Reliability Engineer', \n",
    "                 'Cloud Engineer', 'クラウドエンジニア', 'Network Engineer', 'ネットワークエンジニア', 'System Engineer', 'システムエンジニア'],\n",
    "        \"QA\": ['QA Engineer', 'QAエンジニア', 'Quality Assurance', '品質保証エンジニア', 'Test Engineer', 'テストエンジニア'],\n",
    "        \"アーキテクト\": ['Architect', 'アーキテクト', 'Solution Architect', 'ソリューションアーキテクト', 'Technical Architect', \n",
    "                   'テクニカルアーキテクト', 'Enterprise Architect', 'Cloud Architect', 'Software Architect', 'System Architect'],\n",
    "        \"テクニカル専門職\": ['Technical Specialist', 'テクニカルスペシャリスト', 'Technical Consultant', 'テクニカルコンサルタント', \n",
    "                     'Solutions Engineer', 'ソリューションエンジニア', 'Technical Sales', 'テクニカルセールス'],\n",
    "        \"エンジニアリング\": ['Mechanical Engineer', '機械エンジニア', 'Civil Engineer', '土木エンジニア', 'Electrical Engineer', '電気エンジニア',\n",
    "                      'Aerospace Engineer', 'Chemical Engineer', 'Biomedical Engineer', 'Structural Engineer', 'Environmental Engineer']\n",
    "    },\n",
    "    \n",
    "    \"教育/トレーニング\": {\n",
    "        \"大学教授\": ['Professor', '教授', 'Associate Professor', '准教授', 'Assistant Professor', '助教授', '講師', 'Lecturer', 'Instructor', \n",
    "                 'Faculty Member', 'Faculty', 'Adjunct Professor', 'Visiting Professor', 'Research Professor'],\n",
    "        \"教師\": ['Teacher', '教師', '教員', 'School Teacher', 'Elementary Teacher', 'Secondary Teacher', 'High School Teacher', \n",
    "              'Japanese Teacher', 'English Teacher', 'Math Teacher', 'Science Teacher'],\n",
    "        \"教育管理\": ['Principal', '校長', 'Headmaster', 'Dean', 'Department Chair', 'School Administrator'],\n",
    "        \"教育コンサルタント\": ['Education Consultant', '教育コンサルタント', 'Academic Advisor', 'Educational Specialist', 'Curriculum Developer', \n",
    "                      'Instructional Designer'],\n",
    "        \"特別教育\": ['Special Education Teacher', 'Special Needs Teacher', 'Early Childhood Educator', 'TESOL Instructor', 'ESL Teacher']\n",
    "    },\n",
    "    \n",
    "    \"デザイン/クリエイティブ\": {\n",
    "        \"グラフィックデザイン\": ['Graphic Designer', 'グラフィックデザイナー', 'Graphic Design', 'Visual Designer', 'Brand Designer', \n",
    "                       'Print Designer', 'Packaging Designer'],\n",
    "        \"Webデザイン\": ['Web Designer', 'Webデザイナー', 'UI Designer', 'UIデザイナー', 'UX Designer', 'UXデザイナー', 'UI/UX Designer', \n",
    "                    'UI/UXデザイナー', 'Digital Designer', 'デジタルデザイナー', 'Interactive Designer'],\n",
    "        \"プロダクトデザイン\": ['Product Designer', 'プロダクトデザイナー', 'Industrial Designer', '工業デザイナー', 'Furniture Designer',\n",
    "                       'Fashion Designer', 'ファッションデザイナー'],\n",
    "        \"インテリアデザイン\": ['Interior Designer', 'インテリアデザイナー', 'Spatial Designer', 'Architectural Designer', '建築デザイナー', \n",
    "                      'Exhibition Designer'],\n",
    "        \"映像\": ['Video Editor', '動画編集者', 'Film Editor', '映画監督', 'Videographer', 'ビデオグラファー', 'Video Producer', \n",
    "              '動画プロデューサー', 'Motion Designer', 'モーションデザイナー'],\n",
    "        \"イラストレーション\": ['Illustrator', 'イラストレーター', 'Comic Artist', '漫画家', 'Character Designer', 'キャラクターデザイナー'],\n",
    "        \"写真\": ['Photographer', 'カメラマン', 'フォトグラファー', 'Photo Editor'],\n",
    "        \"アニメーション\": ['Animator', 'アニメーター', '3D Animator', '3Dアニメーター', 'Character Animator', 'Motion Graphics Artist'],\n",
    "        \"3DCG\": ['3D Artist', '3Dアーティスト', '3D Modeler', '3D Environment Artist', 'CGアーティスト', 'CG Designer', 'CGデザイナー'],\n",
    "        \"クリエイティブディレクション\": ['クリエイティブディレクター', 'アートディレクター', 'デザインディレクター'],\n",
    "        \"アート\": ['Artist', 'アーティスト', 'Painter', '画家', 'Sculptor', 'Fine Artist', 'Visual Artist', 'Contemporary Artist'],\n",
    "        \"クリエイティブプロデュース\": ['Producer', 'プロデューサー', 'Creative Producer', 'クリエイティブプロデューサー', 'Executive Producer', \n",
    "                          'エグゼクティブプロデューサー', 'Project Producer']\n",
    "    },\n",
    "    \n",
    "    \"調達/購買\": {\n",
    "        \"調達\": ['Procurement', '調達', 'Purchasing', '購買', 'Sourcing', 'Vendor Management', 'Supplier Management', 'Buyer', 'バイヤー', \n",
    "              'Procurement Specialist']\n",
    "    },\n",
    "    \n",
    "    \"営業支援/営業企画\": {\n",
    "        \"営業支援\": ['Sales Support', '営業支援', 'Sales Operations', 'Sales Enablement', 'Sales Coordinator', 'Sales Administrator', 'Sales Assistant'],\n",
    "        \"営業企画\": ['Sales Planning', '営業企画', 'Sales Strategy', 'Go-to-Market Strategy', 'Sales Development']\n",
    "    },\n",
    "    \n",
    "    \"個人事業主\": {\n",
    "        \"フリーランス\": ['Freelance', 'フリーランス', 'Freelancer', 'フリーランサー', 'Independent Contractor', 'Independent Professional', 'Gig Worker'],\n",
    "        \"自営業\": ['Self-Employed', '自営業', 'Self-Employed Professional', '個人事業主', 'Solo Entrepreneur', 'Solopreneur', 'Independent Business Owner'],\n",
    "        \"個人事業主\": ['個人事業主', 'Sole Proprietor', 'Individual Entrepreneur', 'Single-Person Business', 'Individual Practitioner'],\n",
    "        \"フリー\": ['フリー', 'Free Agent', 'Independent Worker', 'Independent Professional', 'Independent Specialist'],\n",
    "        \"起業家\": ['Entrepreneur', '起業家', 'Small Business Owner', 'Business Founder', 'Startup Founder', 'Business Owner', 'Company Owner'],\n",
    "        \"フリーランス専門職\": ['Freelance Writer', 'フリーライター', 'Freelance Designer', 'フリーデザイナー', 'Freelance Developer', 'フリーエンジニア',\n",
    "                       'Freelance Consultant', 'フリーコンサルタント', 'Freelance Translator', 'Freelance Photographer']\n",
    "    },\n",
    "    \n",
    "    \"品質保証/品質管理\": {\n",
    "        \"品質管理\": ['Quality Control', '品質管理', 'Quality Assurance', '品質保証', 'Quality Inspector', \n",
    "                 'Quality Analyst', 'Quality Specialist', 'QC', 'QA']\n",
    "    },\n",
    "    \n",
    "    \"製造/生産\": {\n",
    "        \"生産管理\": ['Production Planner', 'Production Coordinator', 'Production Supervisor',\n",
    "                 'Manufacturing', '製造'],\n",
    "        \"製造\": ['Manufacturing Engineer', '製造エンジニア', 'Production Engineer', 'Process Engineer', 'Industrial Engineer', 'Quality Engineer', \n",
    "              'Automation Engineer', 'Plant Engineer', 'Facilities Engineer']\n",
    "    },\n",
    "    \n",
    "    \"物流/サプライチェーン\": {\n",
    "        \"物流\": ['Logistics', '物流', 'Supply Chain', 'サプライチェーン', 'Inventory Management', 'Shipping Coordinator', \n",
    "              'Logistics Specialist', 'SCM', 'サプライチェーンマネジメント']\n",
    "    },\n",
    "    \n",
    "    \"顧客対応/フロント\": {\n",
    "        \"カスタマーサービス\": ['Customer Service', 'カスタマーサービス', 'Customer Service Representative', 'Customer Service Specialist',\n",
    "                       'Customer Service Agent', 'Customer Care', 'Customer Experience'],\n",
    "        \"コールセンター\": ['Call Center', 'コールセンター', 'Call Center Representative', 'Call Center Agent', 'Call Center Supervisor', \n",
    "                    'Contact Center'],\n",
    "        \"クライアントサービス\": ['Client Services', 'Client Service Representative', 'Account Services', 'Account Coordinator', 'Customer Relations', \n",
    "                       'Client Relations'],\n",
    "        \"フロント\": ['Front Desk', 'フロント', 'Receptionist', 'レセプショニスト', 'Front Office', 'Guest Relations']\n",
    "    },\n",
    "    \n",
    "    \"設備・施設管理\": {\n",
    "        \"施設管理\": ['Facilities', 'Facilities Management', '施設管理', 'Building Management', 'Property Management',\n",
    "                'Maintenance', 'Facility Engineer', 'Building Engineer']\n",
    "    },\n",
    "    \n",
    "    \"現場・フィールドオペレーション\": {\n",
    "        \"フィールド作業\": ['Field Operations', 'Field Technician', 'Field Engineer', 'Field Service', 'Site Operations', 'On-site Technician',\n",
    "                   'Service Technician', 'Maintenance Technician', '現場作業員', '現場監督', '現場責任者', 'フィールドオペレーション']\n",
    "    },\n",
    "    \n",
    "    \"HSE（健康、安全、環境）\": {\n",
    "        \"安全衛生\": ['Health and Safety', 'Safety Officer', 'Safety Engineer', 'Occupational Health', 'Industrial Hygienist',\n",
    "                'HSE', 'Health Safety Environment', '安全衛生管理者', '安全管理者', '衛生管理者', '環境管理者']\n",
    "    },\n",
    "    \n",
    "    \"監査・内部監査\": {\n",
    "        \"監査\": ['Auditor', '監査役', '監査人', '内部監査人', 'Internal Auditor', 'External Auditor', \n",
    "             'Compliance Auditor', 'Financial Auditor', 'IT Auditor', 'Quality Auditor', '監査']\n",
    "    },\n",
    "    \n",
    "    \"総務\": {\n",
    "        \"総務\": ['General Affairs', '総務', 'Administrative Services', 'Office Coordinator', 'Office Administration',\n",
    "             'Office Services', '総務担当']\n",
    "    },\n",
    "    \n",
    "    \"医療/福祉\": {\n",
    "        \"医師\": ['Doctor', 'Physician', '医師', 'Medical Doctor', 'Surgeon', 'Pediatrician', 'Cardiologist', 'Dermatologist', 'Psychiatrist',\n",
    "              'Neurologist', 'Oncologist', 'Anesthesiologist', 'Radiologist'],\n",
    "        \"看護師\": ['Nurse', '看護師', 'Registered Nurse', 'Nurse Practitioner', 'Clinical Nurse', 'Nursing', 'Head Nurse'],\n",
    "        \"薬剤師\": ['Pharmacist', '薬剤師', 'Clinical Pharmacist', 'Hospital Pharmacist', 'Pharmaceutical Specialist'],\n",
    "        \"歯科医\": ['Dentist', '歯科医', '歯科医師', 'Dental Surgeon', 'Orthodontist', 'Periodontist', 'Prosthodontist', 'Endodontist'],\n",
    "        \"セラピスト\": ['Therapist', 'Physical Therapist', '理学療法士', 'Occupational Therapist', '作業療法士', 'Speech Therapist', '言語聴覚士', \n",
    "                  'Massage Therapist', 'Respiratory Therapist'],\n",
    "        \"心理\": ['Psychologist', '心理士', 'Clinical Psychologist', '臨床心理士', 'Counselor', 'カウンセラー', 'Mental Health Counselor', 'Psychotherapist'],\n",
    "        \"医療技術者\": ['Medical Technologist', '臨床検査技師', 'Radiologic Technologist', '診療放射線技師', 'Ultrasound Technician', 'Laboratory Technician',\n",
    "                   'Biomedical Technician'],\n",
    "        \"福祉\": ['Social Worker', 'ソーシャルワーカー', 'Case Manager', 'Care Manager', 'Welfare Officer', '福祉士', '介護士', 'Caregiver', '介護福祉士'],\n",
    "        \"リハビリテーション\": ['Rehabilitation Specialist', 'リハビリテーション専門家', 'Rehabilitation Counselor', 'Rehabilitation Technician',\n",
    "                       'Orthotist', 'Prosthetist']\n",
    "    },\n",
    "    \n",
    "    \"事務支援/営業企画\": {\n",
    "        \"事務\": ['Admin', 'Administrative', '事務', 'Office Administrator', 'Administrative Assistant', 'Executive Assistant', \n",
    "              'Secretary', '秘書', 'Receptionist'],\n",
    "        \"運用管理\": ['Operations', 'Operations Specialist', 'Operations Coordinator', 'Operations Analyst'],\n",
    "        \"オフィス管理\": ['Workplace Services', 'Administrative Services', 'Office Services']\n",
    "\n",
    "    },\n",
    "    \n",
    "    \"コンサルティング\": {\n",
    "        \"ビジネスコンサルタント\": ['Consultant', 'コンサルタント', 'Business Consultant', 'ビジネスコンサルタント', 'Management Consultant', \n",
    "                        '経営コンサルタント', 'Strategy Consultant', '戦略コンサルタント', 'Advisory Consultant'],\n",
    "        \"ITコンサルタント\": ['IT Consultant', 'ITコンサルタント', 'Technology Consultant', 'テクノロジーコンサルタント', 'Digital Consultant',\n",
    "                       'デジタルコンサルタント', 'Information Systems Consultant'],\n",
    "        \"財務コンサルタント\": ['Financial Consultant', 'Finance Consultant', 'Financial Advisor', 'ファイナンシャルプランナー', 'Investment Consultant', \n",
    "                      'Tax Consultant', 'Wealth Management Advisor'],\n",
    "        \"人事コンサルタント\": ['HR Consultant', '人事コンサルタント', 'Talent Management Consultant', 'Recruitment Consultant',\n",
    "                       'Organizational Development Consultant', 'Performance Management Consultant'],\n",
    "        \"マーケティングコンサルタント\": ['Marketing Consultant', 'マーケティングコンサルタント', 'Digital Marketing Consultant', 'Brand Consultant',\n",
    "                            'Communications Consultant', 'PR Consultant'],\n",
    "        \"シニアコンサルタント\": ['Senior Consultant', 'シニアコンサルタント', 'Principal Consultant', 'プリンシパルコンサルタント', 'Executive Consultant',\n",
    "                        'Partner Consultant'],\n",
    "        \"アドバイザー\": ['Advisor', 'アドバイザー', 'Business Advisor', 'Strategic Advisor', 'Executive Advisor', 'Technical Advisor', \n",
    "                   'Subject Matter Expert']\n",
    "    },\n",
    "    \n",
    "    \"翻訳/通訳\": {\n",
    "        \"翻訳・通訳\": ['Translator', '翻訳者', 'Interpreter', '通訳', 'Localization Specialist', 'Translation Coordinator',\n",
    "                   'Conference Interpreter', 'Medical Interpreter', 'Court Interpreter', 'Japanese Translator', 'English Translator']\n",
    "    },\n",
    "    \n",
    "    \"店舗運営/店長\": {\n",
    "        \"店舗管理\": ['Store Manager', '店長', 'Shop Manager', 'Retail Manager', 'Branch Manager', 'Outlet Manager', 'Store Supervisor',\n",
    "                'Assistant Store Manager', 'Area Manager', 'Retail Operations Manager', '店舗運営', '店舗運営管理者']\n",
    "    },\n",
    "    \n",
    "    \"国際ビジネス\": {\n",
    "        \"海外マネジメント\": ['Country Manager', 'Regional Manager', 'Area Manager', 'Territory Manager', 'District Manager', \n",
    "                       'International Manager', 'Global Manager', 'Global Business Development', '海外事業', '海外営業', '国際部長', \n",
    "                       'International Business', 'Global Business']\n",
    "    },\n",
    "    \n",
    "    \"その他\": {\n",
    "        \"無職\": ['なし', '無し', '無職', '', 'None', 'none', '-', 'Unemployed', '求職中', 'Not Working', 'Between Jobs', '転職中', 'Job Seeker'],\n",
    "        \"主婦・主夫\": ['主婦', '主夫', '主婦/主夫', 'Homemaker', 'Housewife', 'Househusband', 'Stay-at-home Parent', 'Full-time Parent'],\n",
    "        \"退職者\": ['Retired', '退職者', 'Retiree', 'Former', 'Ex-', 'Pensioner', 'Senior'],\n",
    "        \"ボランティア\": ['Volunteer', 'ボランティア', 'Community Volunteer', 'Charity Worker', 'Nonprofit Worker', 'NGO Worker'],\n",
    "        \"金融専門職\": ['Financial Analyst', 'Investment Banker', 'Stockbroker', 'Trader', 'トレーダー', 'Portfolio Manager', 'Wealth Manager',\n",
    "                   'Banking Officer', 'Loan Officer', 'Credit Analyst'],\n",
    "        \"不動産\": ['Real Estate Agent', '不動産', 'Real Estate Broker', 'Property Manager', 'Leasing Agent', 'Real Estate Developer',\n",
    "                 'Real Estate Consultant', 'Real Estate Appraiser'],\n",
    "        \"宗教職\": ['Pastor', '牧師', 'Priest', '神父', 'Rabbi', 'Imam', 'Minister', 'Chaplain', 'Monk', '僧侶', 'Nun'],\n",
    "        \"農業\": ['Farmer', '農家', 'Agricultural Manager', 'Farm Owner', 'Farm Worker', 'Agricultural Specialist', 'Grower', 'Vineyard Manager'],\n",
    "        \"公務員\": ['Civil Servant', '公務員', 'Government Employee', 'Public Servant', 'Government Official', 'Public Official', 'Government Worker',\n",
    "                 'Public Service Worker'],\n",
    "        \"料理人\": ['Chef', 'シェフ', 'Cook', 'Head Chef', 'Sous Chef', 'Executive Chef', 'Pastry Chef', 'Kitchen Manager', 'Culinary Director'],\n",
    "        \"美容師\": ['Hairdresser', '美容師', 'Hair Stylist', 'Barber', 'Beautician', 'Cosmetologist', 'Salon Manager', 'Beauty Therapist'],\n",
    "        \"メディア\": ['Journalist', 'ジャーナリスト', 'Reporter', '記者', 'Editor', '編集者', 'News Anchor', 'Broadcaster', 'Media Specialist',\n",
    "                  'Media Producer', 'Publishing Editor'],\n",
    "        \"芸術・エンターテイメント\": ['Actor', '俳優', 'Musician', '音楽家', 'Dancer', 'ダンサー', 'Singer', '歌手', 'Composer', '作曲家', 'Director', \n",
    "                         'Producer', 'DJ', 'Voice Actor', '声優', 'Screenwriter', 'シナリオライター'],\n",
    "        \"大学院生\": ['Graduate Student', '大学院生', 'PhD Student', 'Doctoral Student', 'Master\\'s Student', 'Research Student', 'PhD Candidate'],\n",
    "        \"学生\": ['Student', '学生', 'University Student', '大学生', 'College Student', 'Undergraduate Student', 'Undergraduate', '学部生',\n",
    "               'High School Student', '高校生'],\n",
    "        \"見習い\": ['Trainee', '研修生', 'Apprentice', '見習い', 'Junior Trainee', 'Training Program Participant'],\n",
    "        \"投資\": ['Investment', 'Investor', 'Investment Analyst', 'Portfolio Manager', \n",
    "               'Asset Manager', 'Fund Manager', 'ファンドマネージャー', 'Investment Banking'],\n",
    "        \"建築\": ['Architect', '建築家', 'Architectural Designer', '建築デザイナー', 'Interior Architect', 'Landscape Architect', 'Urban Planner', \n",
    "               'Construction Manager', 'Building Inspector'],\n",
    "        \"テクニカルサポート\": ['Technical Support', 'テクニカルサポート', 'Technical Support Specialist', 'Technical Support Engineer', \n",
    "                      'IT Support', 'ITサポート', 'Help Desk', 'ヘルプデスク', 'Desktop Support', 'Support Technician'],\n",
    "        \"その他\": ['Other', 'その他', 'Miscellaneous', 'Various', 'NA', 'N/A', 'Not Applicable', 'Not Specified', 'Unspecified']\n",
    "    }\n",
    "}\n",
    "\n",
    "ROLES_COMPILED_PATTERNS = {}\n",
    "for main_category, subcategories in ROLES.items():\n",
    "    for subcategory, keywords in subcategories.items():\n",
    "        patterns = []\n",
    "        for keyword in keywords:\n",
    "            if len(keyword) <= 4 and keyword.isupper():\n",
    "                pattern = r'\\b' + re.escape(keyword) + r'\\b'\n",
    "            else:\n",
    "                pattern = re.escape(keyword.lower())\n",
    "            patterns.append(pattern)\n",
    "        \n",
    "        ROLES_COMPILED_PATTERNS[(main_category, subcategory)] = re.compile(r'(' + '|'.join(patterns) + r')', re.IGNORECASE)"
   ]
  },
  {
   "cell_type": "code",
   "execution_count": 19,
   "id": "999c5479-279f-4336-aa80-182755eae2a6",
   "metadata": {},
   "outputs": [],
   "source": [
    "# import pyspark.sql.functions as F\n",
    "# import pyspark.sql.types as T\n",
    "# from pyspark.sql import DataFrame\n",
    "# import re\n",
    "\n",
    "# @F.udf(returnType=T.ArrayType(T.StringType()))\n",
    "# def normalize_position_groups_udf(positions):\n",
    "#     if positions is None:\n",
    "#         return None\n",
    "#     elif isinstance(positions, str):\n",
    "#         positions = [positions]\n",
    "#     elif len(positions) == 0:\n",
    "#         return []\n",
    "    \n",
    "#     def normalize_text(positions):\n",
    "#         result = []\n",
    "#         for position in positions:\n",
    "#             if position is None or (isinstance(position, str) and not position.strip()):\n",
    "#                 result.append(\"その他\")\n",
    "#                 continue\n",
    "        \n",
    "#             if not isinstance(position, str):\n",
    "#                 result.append(\"その他\")\n",
    "#                 continue\n",
    "                    \n",
    "#             result.append(re.sub(r'[^\\w\\s\\u3040-\\u30FF\\uFF00-\\uFFEF\\u4E00-\\u9FFF]', '', position))\n",
    "        \n",
    "#         return result\n",
    "    \n",
    "#     def normalize_role_with_regex(role):\n",
    "#         if not isinstance(role, str) or (isinstance(role, str) and role.strip() in ['なし', '無し', '無職', '', 'None', \n",
    "#                                                                                    'none', '-', 'Unemployed', '\"\"', \"その他\"]):\n",
    "#             return \"その他\"\n",
    "        \n",
    "#         for (main_category, _), regex in ROLES_COMPILED_PATTERNS.items():\n",
    "#             if regex.search(role.lower()):\n",
    "#                 return main_category\n",
    "        \n",
    "#         return \"その他\"\n",
    "    \n",
    "#     def normalize_position_group(positions):\n",
    "#         result = []\n",
    "#         if not len(positions):\n",
    "#             return result\n",
    "        \n",
    "#         for position in positions:\n",
    "#             result.append(normalize_role_with_regex(position))\n",
    "#         return result\n",
    "\n",
    "#     normalized = normalize_text(positions)\n",
    "#     groups = normalize_position_group(normalized)\n",
    "#     return groups\n",
    "\n",
    "\n",
    "\n",
    "import pyspark.sql.functions as F\n",
    "import pyspark.sql.types as T\n",
    "from pyspark.sql import DataFrame\n",
    "import re\n",
    "\n",
    "@F.udf(returnType=T.ArrayType(T.StringType()))\n",
    "def normalize_position_groups_udf(positions_array):\n",
    "    # Handle null case\n",
    "    if positions_array is None:\n",
    "        return None\n",
    "    \n",
    "    # Handle empty array case\n",
    "    if len(positions_array) == 0:\n",
    "        return []\n",
    "    \n",
    "    position_names = []\n",
    "    # Extract position_name from each position object in the array\n",
    "    for position in positions_array:\n",
    "        if position is not None and 'position_name' in position:\n",
    "            position_names.append(position['position_name'])\n",
    "        else:\n",
    "            position_names.append(None)  # Add None if position_name doesn't exist\n",
    "    \n",
    "    def normalize_text(positions):\n",
    "        result = []\n",
    "        for position in positions:\n",
    "            if position is None or (isinstance(position, str) and not position.strip()):\n",
    "                result.append(\"その他\")\n",
    "                continue\n",
    "            \n",
    "            if not isinstance(position, str):\n",
    "                result.append(\"その他\")\n",
    "                continue\n",
    "                    \n",
    "            result.append(re.sub(r'[^\\w\\s\\u3040-\\u30FF\\uFF00-\\uFFEF\\u4E00-\\u9FFF]', '', position))\n",
    "        \n",
    "        return result\n",
    "    \n",
    "    def normalize_role_with_regex(role):\n",
    "        if not isinstance(role, str) or (isinstance(role, str) and role.strip() in ['なし', '無し', '無職', '', 'None', \n",
    "                                                                                   'none', '-', 'Unemployed', '\"\"', \"その他\"]):\n",
    "            return \"その他\"\n",
    "        \n",
    "        for (main_category, _), regex in ROLES_COMPILED_PATTERNS.items():\n",
    "            if regex.search(role.lower()):\n",
    "                return main_category\n",
    "        \n",
    "        return \"その他\"\n",
    "    \n",
    "    def normalize_position_group(positions):\n",
    "        result = []\n",
    "        if not len(positions):\n",
    "            return result\n",
    "        \n",
    "        for position in positions:\n",
    "            result.append(normalize_role_with_regex(position))\n",
    "        return result\n",
    "    \n",
    "    normalized = normalize_text(position_names)\n",
    "    groups = normalize_position_group(normalized)\n",
    "    return groups"
   ]
  },
  {
   "cell_type": "code",
   "execution_count": 20,
   "id": "7a90fa48-eb49-41fe-a169-9829a1fffb45",
   "metadata": {},
   "outputs": [],
   "source": [
    "from datetime import datetime\n",
    "from typing import Dict\n",
    "from pyspark.sql import DataFrame, SparkSession\n",
    "from delta.tables import DeltaTable\n",
    "import pyspark.sql.functions as F\n",
    "from pyspark.sql.types import DataType\n",
    "\n",
    "def create_table_from_schema(\n",
    "    spark: SparkSession,\n",
    "    df: DataFrame,\n",
    "    path: str,\n",
    "    extra_columns: Dict[str, DataType] = {},\n",
    "    partition_by: list[str] = []\n",
    "):\n",
    "    schema = df.schema\n",
    "    for field in schema.fields:\n",
    "        field.nullable = True\n",
    "    for k, v in extra_columns.items():\n",
    "        schema.add(k, v)\n",
    "    builder  = DeltaTable.createIfNotExists(spark).location(path).addColumns(schema)\n",
    "    if len(partition_by) > 0:\n",
    "        builder.partitionedBy(partition_by)\n",
    "    return builder.execute()\n",
    "\n",
    "\n",
    "def merge_schema(spark: SparkSession, table: DeltaTable, df: DataFrame):\n",
    "    dest = table.toDF()\n",
    "    table_detail = table.detail().collect()[0]\n",
    "    missing_columns = set(df.columns).difference(dest.columns)\n",
    "    if missing_columns:\n",
    "        col_defs = []\n",
    "        for col in missing_columns:\n",
    "            col_defs.append(f\"{col} {df.schema[col].dataType.simpleString()}\")\n",
    "        sql = f\"ALTER TABLE delta.`{table_detail.location}` ADD COLUMNS ({','.join(col_defs)})\"\n",
    "        spark.sql(sql)\n"
   ]
  },
  {
   "cell_type": "code",
   "execution_count": 21,
   "id": "7bbd7055-f21c-448d-a8f8-442346818a28",
   "metadata": {},
   "outputs": [],
   "source": [
    "from typing import NamedTuple, Optional\n",
    "from functools import reduce\n",
    "import operator\n",
    "\n",
    "class ColumnInfo(NamedTuple):\n",
    "    column: str\n",
    "    alias: Optional[str]\n",
    "    quality: Optional[int]\n",
    "\n",
    "def upsert_persons_table(\n",
    "    spark: SparkSession,\n",
    "    media_name: str,\n",
    "    slack_webhook: str,\n",
    "    data_df: DataFrame,\n",
    "    upsert_cols: list[ColumnInfo],\n",
    "    master_person_table: str,\n",
    "):\n",
    "    all_columns = [F.col(\"person_uuid\")]\n",
    "    for info in upsert_cols:\n",
    "        col = info.alias or info.column\n",
    "        col_type = data_df.select(info.column).schema.fields[0].dataType.typeName()\n",
    "        data_df = data_df.withColumn(\n",
    "            f\"{col}_quality\",\n",
    "            F.when(\n",
    "                F.col(info.column).isNotNull() & (\n",
    "                    F.col(info.column) != F.lit(\"\")\n",
    "                ),\n",
    "                F.lit(info.quality),\n",
    "            ).otherwise(F.lit(0)) if col_type == \"string\"\n",
    "            else F.when(\n",
    "                F.col(info.column).isNotNull() & (\n",
    "                    F.col(info.column) != F.array()\n",
    "                ),\n",
    "                F.lit(info.quality),\n",
    "            ).otherwise(F.lit(0)) if col_type == \"array\"\n",
    "            else F.when(\n",
    "                F.col(info.column).isNotNull(),\n",
    "                F.lit(info.quality),\n",
    "            ).otherwise(F.lit(0)),\n",
    "        ).withColumn(\n",
    "            f\"{col}_updated_at\",\n",
    "            F.current_timestamp(),\n",
    "        )\n",
    "        col_type = data_df.select(info.column).schema.fields[0].dataType.typeName()\n",
    "        all_columns.append(F.col(info.column).alias(col))\n",
    "        all_columns.append(F.col(f\"{col}_quality\"))\n",
    "        all_columns.append(F.col(f\"{col}_updated_at\"))\n",
    "    data_df = data_df.select(*all_columns)\n",
    "    data_df = data_df.withColumn(\"updated_at\", F.current_timestamp()).withColumn(\n",
    "        \"created_at\", F.current_timestamp()\n",
    "    )\n",
    "\n",
    "    table = create_table_from_schema(spark, data_df, master_person_table)\n",
    "    merge_schema(spark, table, data_df)\n",
    "    table = DeltaTable.forPath(spark, master_person_table)\n",
    "\n",
    "    dest_table = table.alias(\"dest\")\n",
    "    dest = dest_table.toDF()\n",
    "\n",
    "    missing_cols = set(dest.columns) - set(data_df.columns)\n",
    "\n",
    "    data_df = data_df.withColumns({x: F.lit(None) for x in missing_cols})\n",
    "\n",
    "    src = data_df.alias(\"src\")\n",
    "\n",
    "    cols_src = src.columns\n",
    "    cols_verify = [col.alias if col.alias else col.column for col in upsert_cols]\n",
    "\n",
    "    updated_values = {}\n",
    "    updated_at_conditions = []\n",
    "    for info in upsert_cols:\n",
    "        col = info.alias or info.column\n",
    "        col_type = src.select(col).schema.fields[0].dataType.typeName()\n",
    "        quality_condition = (\n",
    "                dest[f\"{col}_quality\"].isNull()\n",
    "                | ((dest[f\"{col}_quality\"] <= src[f\"{col}_quality\"]))\n",
    "            )\n",
    "        if col_type == \"string\":\n",
    "            condition = (\n",
    "                src[col].isNotNull()\n",
    "                & (src[col] != F.lit(\"\"))\n",
    "                & quality_condition\n",
    "            )\n",
    "        elif col_type == \"array\":\n",
    "            condition = (\n",
    "                src[col].isNotNull()\n",
    "                & (src[col] != F.array())\n",
    "                & quality_condition\n",
    "            )\n",
    "        else:\n",
    "            condition = (\n",
    "                src[col].isNotNull()\n",
    "                & quality_condition\n",
    "            )\n",
    "        for c in [col, f\"{col}_updated_at\", f\"{col}_quality\"]:\n",
    "            updated_values[c] = F.when(\n",
    "                condition,\n",
    "                src[c],\n",
    "            ).otherwise(dest[c])\n",
    "        updated_at_conditions.append(condition)\n",
    "    updated_values[\"updated_at\"] = F.when(\n",
    "        reduce(operator.or_, updated_at_conditions), src[\"updated_at\"]\n",
    "    ).otherwise(dest[\"updated_at\"])\n",
    "    dest_table.merge(\n",
    "        src, dest[\"person_uuid\"] == src[\"person_uuid\"]\n",
    "    ).whenNotMatchedInsertAll().whenMatchedUpdate(set=updated_values).execute()"
   ]
  },
  {
   "cell_type": "code",
   "execution_count": 11,
   "id": "672dcca6-5be9-4d57-8747-1c086298b59a",
   "metadata": {},
   "outputs": [],
   "source": [
    "rows3 = df.groupBy('id').agg(\n",
    "    F.count('id').alias('count'),\n",
    "    F.first('id').alias('id'),\n",
    ").filter(F.col('count')!=1).head(10)"
   ]
  },
  {
   "cell_type": "code",
   "execution_count": 12,
   "id": "c2cd2b46-ecf4-4af9-8805-37c240abe3cd",
   "metadata": {},
   "outputs": [
    {
     "data": {
      "text/plain": [
       "[Row(id='100000002824345-以前の勤務先: 株式会社リクルート', count=2, id='100000002824345-以前の勤務先: 株式会社リクルート'),\n",
       " Row(id='100000003052999-以前の勤務先: LIG', count=2, id='100000003052999-以前の勤務先: LIG'),\n",
       " Row(id='100000005794213-Wirausaha Owner', count=2, id='100000005794213-Wirausaha Owner'),\n",
       " Row(id='100000008043811-勤務先: 杏嶺会グループ 一宮西病院', count=2, id='100000008043811-勤務先: 杏嶺会グループ 一宮西病院'),\n",
       " Row(id='100000010022528-レイフィールド株式会社 PRセールスプロモーション部  制作', count=2, id='100000010022528-レイフィールド株式会社 PRセールスプロモーション部  制作'),\n",
       " Row(id='100000010279611-勤務先: Global Brain', count=2, id='100000010279611-勤務先: Global Brain'),\n",
       " Row(id='100000015326752-勤務先: ENTACL GRAPHICXXX', count=2, id='100000015326752-勤務先: ENTACL GRAPHICXXX'),\n",
       " Row(id='100000016221313-Oggi 小学館Oggi.jpディレクター', count=2, id='100000016221313-Oggi 小学館Oggi.jpディレクター'),\n",
       " Row(id='100000026186410-以前の勤務先: 龍谷大学 / Ryukoku University', count=2, id='100000026186410-以前の勤務先: 龍谷大学 / Ryukoku University'),\n",
       " Row(id='100000027198245-勤務先: 株式会社でいたらぼ', count=2, id='100000027198245-勤務先: 株式会社でいたらぼ')]"
      ]
     },
     "execution_count": 12,
     "metadata": {},
     "output_type": "execute_result"
    }
   ],
   "source": [
    "rows3"
   ]
  },
  {
   "cell_type": "code",
   "execution_count": 13,
   "id": "c3e3ac54-dbf5-4db8-99ae-bd83fc1b1dda",
   "metadata": {},
   "outputs": [],
   "source": [
    "rows = df.filter(df['id'] == F.lit('100000002824345-以前の勤務先: 株式会社リクルート')).head(10)"
   ]
  },
  {
   "cell_type": "code",
   "execution_count": 14,
   "id": "703a8485-e7a3-4092-978f-85f32e68e0fc",
   "metadata": {},
   "outputs": [
    {
     "data": {
      "text/plain": [
       "[Row(id='100000002824345-以前の勤務先: 株式会社リクルート', person_id='100000002824345', title='以前の勤務先: 株式会社リクルート', subtitle='2013年6月30日〜2018年1月', company_id='100064569224533', company_name='株式会社リクルート', company_url='https://www.facebook.com/recruit.jp', _ingest_id='20250426T032429', created_at=datetime.datetime(2025, 4, 26, 9, 23, 17, 954131), updated_at=datetime.datetime(2025, 4, 26, 9, 23, 17, 954131), position_title='株式会社リクルート', corporate_number=None),\n",
       " Row(id='100000002824345-以前の勤務先: 株式会社リクルート', person_id='100000002824345', title='以前の勤務先: 株式会社リクルート', subtitle='2013年6月30日〜2018年1月', company_id='100064569224533', company_name='株式会社リクルート', company_url='https://www.facebook.com/recruit.jp', _ingest_id='20250426T032429', created_at=datetime.datetime(2025, 4, 26, 9, 23, 17, 954131), updated_at=datetime.datetime(2025, 4, 26, 9, 23, 17, 954131), position_title='株式会社リクルート', corporate_number=None)]"
      ]
     },
     "execution_count": 14,
     "metadata": {},
     "output_type": "execute_result"
    }
   ],
   "source": [
    "rows"
   ]
  },
  {
   "cell_type": "code",
   "execution_count": 6,
   "id": "24e0a68b-9376-43f1-b6fe-0ed53d9517dc",
   "metadata": {},
   "outputs": [],
   "source": [
    "rows2 = unique_name_master_companies_df.filter(unique_name_master_companies_df['unique_name'] == 'meta').head(10)"
   ]
  },
  {
   "cell_type": "code",
   "execution_count": 7,
   "id": "89f92ffe-e666-42b4-904f-a14d31a55e87",
   "metadata": {},
   "outputs": [
    {
     "data": {
      "text/plain": [
       "[Row(unique_name='meta', unique_name_raw='合同会社MetA', unique_corporate_number='3030003019313', count=1),\n",
       " Row(unique_name='meta', unique_name_raw='株式会社MeTa', unique_corporate_number='8370001045719', count=1),\n",
       " Row(unique_name='meta', unique_name_raw='合同会社Meta', unique_corporate_number='2011103013992', count=1),\n",
       " Row(unique_name='meta', unique_name_raw='株式会社MeTA', unique_corporate_number='4010001151820', count=1)]"
      ]
     },
     "execution_count": 7,
     "metadata": {},
     "output_type": "execute_result"
    }
   ],
   "source": [
    "rows2"
   ]
  },
  {
   "cell_type": "code",
   "execution_count": 16,
   "id": "c4a9e2b6-381c-4a3e-abe1-365b9eba2089",
   "metadata": {},
   "outputs": [
    {
     "data": {
      "text/plain": [
       "[Row(id='100000002824345-以前の勤務先: 株式会社リクルート', person_id='100000002824345', title='以前の勤務先: 株式会社リクルート', subtitle='2013年6月30日〜2018年1月', company_id='100064569224533', company_name='株式会社リクルート', company_url='https://www.facebook.com/recruit.jp', _ingest_id='20250426T032429', created_at=datetime.datetime(2025, 3, 12, 11, 11, 5, 936479), updated_at=datetime.datetime(2025, 4, 26, 6, 58, 3, 456376), position_title='株式会社リクルート', corporate_number=None),\n",
       " Row(id='100000002824345-以前の勤務先: 株式会社リクルート', person_id='100000002824345', title='以前の勤務先: 株式会社リクルート', subtitle='2013年6月30日〜2018年1月', company_id='100064569224533', company_name='株式会社リクルート', company_url='https://www.facebook.com/recruit.jp', _ingest_id='20250426T032429', created_at=datetime.datetime(2025, 3, 3, 5, 3, 7, 249686), updated_at=datetime.datetime(2025, 4, 26, 6, 58, 3, 456376), position_title='株式会社リクルート', corporate_number=None)]"
      ]
     },
     "execution_count": 16,
     "metadata": {},
     "output_type": "execute_result"
    }
   ],
   "source": [
    "src_df.filter(F.col('id') == '100000002824345-以前の勤務先: 株式会社リクルート').head(10)"
   ]
  },
  {
   "cell_type": "code",
   "execution_count": 21,
   "id": "dc76f3f4-23a4-407e-b6e3-1eb6d6489acb",
   "metadata": {},
   "outputs": [],
   "source": [
    "duplicated_ids = src_df.groupBy('id').agg(\n",
    "        F.count('id').alias(\"count\"),\n",
    "        F.first('id').alias('id'),\n",
    "    ).filter(F.col(\"count\")!=1).collect()"
   ]
  },
  {
   "cell_type": "code",
   "execution_count": 22,
   "id": "8a8679b2-0bf4-4cc4-84db-3390effd988c",
   "metadata": {},
   "outputs": [
    {
     "data": {
      "text/plain": [
       "89290"
      ]
     },
     "execution_count": 22,
     "metadata": {},
     "output_type": "execute_result"
    }
   ],
   "source": [
    "len(duplicated_ids)"
   ]
  },
  {
   "cell_type": "code",
   "execution_count": 23,
   "id": "176817aa-bbc8-49e7-9fd8-81a0c7eceeb2",
   "metadata": {},
   "outputs": [],
   "source": [
    "src_df2 = spark.read.format(\"delta\").load('s3a://salessmart-warehouse/table/facebook/person_work/raw')\n",
    "uplicated_ids = src_df2.groupBy('id').agg(\n",
    "        F.count('id').alias(\"count\"),\n",
    "        F.first('id').alias('id'),\n",
    "    ).filter(F.col(\"count\")!=1).collect()"
   ]
  },
  {
   "cell_type": "code",
   "execution_count": 25,
   "id": "49dcd7db-69cd-4efd-b102-d9c7976e70ec",
   "metadata": {},
   "outputs": [],
   "source": [
    "src_df3 = spark.read.format(\"delta\").load('s3a://salessmart-warehouse/table/facebook/person/normalized')\n"
   ]
  },
  {
   "cell_type": "code",
   "execution_count": 27,
   "id": "8ebe3a92-49d2-4070-9170-2f3ca7b8ef42",
   "metadata": {},
   "outputs": [
    {
     "data": {
      "text/plain": [
       "Column<'person_places.place_id AS place_id'>"
      ]
     },
     "execution_count": 27,
     "metadata": {},
     "output_type": "execute_result"
    }
   ],
   "source": [
    "src_df3['person_places.place_id']"
   ]
  },
  {
   "cell_type": "code",
   "execution_count": 28,
   "id": "c3754c92-def0-46be-b6a0-4a580d6fe8d1",
   "metadata": {},
   "outputs": [],
   "source": [
    "master_person_table = DeltaTable.forPath(spark, 's3a://salessmart-warehouse/table/master/person')"
   ]
  },
  {
   "cell_type": "code",
   "execution_count": 29,
   "id": "899f3728-0d2b-47b2-a1ac-14810b553e02",
   "metadata": {},
   "outputs": [
    {
     "data": {
      "text/plain": [
       "DataFrame[num_affected_rows: bigint]"
      ]
     },
     "execution_count": 29,
     "metadata": {},
     "output_type": "execute_result"
    }
   ],
   "source": [
    "spark.sql(\"\"\"\n",
    "UPDATE delta.`s3a://salessmart-warehouse/table/master/person` SET fb_url = COALESCE(fb_url, facebook_url), updated_at = NOW() where fb_url is null and facebook_url is not null\n",
    "\"\"\"\n",
    ")"
   ]
  },
  {
   "cell_type": "code",
   "execution_count": 30,
   "id": "87d25d72-5c9c-4b11-bb1e-07b016597915",
   "metadata": {},
   "outputs": [
    {
     "data": {
      "text/plain": [
       "DataFrame[num_affected_rows: bigint]"
      ]
     },
     "execution_count": 30,
     "metadata": {},
     "output_type": "execute_result"
    }
   ],
   "source": [
    "_"
   ]
  },
  {
   "cell_type": "code",
   "execution_count": 31,
   "id": "7b8d3113-bbcc-4cea-b16e-ef06dd286752",
   "metadata": {},
   "outputs": [],
   "source": [
    "x = _.collect()"
   ]
  },
  {
   "cell_type": "code",
   "execution_count": 32,
   "id": "ed12b3ae-3a4e-48b6-90e5-f30ce71eeaa2",
   "metadata": {},
   "outputs": [
    {
     "data": {
      "text/plain": [
       "[Row(num_affected_rows=300690)]"
      ]
     },
     "execution_count": 32,
     "metadata": {},
     "output_type": "execute_result"
    }
   ],
   "source": [
    "x"
   ]
  },
  {
   "cell_type": "code",
   "execution_count": 41,
   "id": "b22eb6d2-67d3-49ce-a232-3099e4f85e41",
   "metadata": {},
   "outputs": [
    {
     "data": {
      "text/plain": [
       "[Row(calculate(age)=bytearray(b'this is a test'))]"
      ]
     },
     "execution_count": 41,
     "metadata": {},
     "output_type": "execute_result"
    }
   ],
   "source": [
    "from pyspark.sql.functions import pandas_udf\n",
    "from pyspark.sql.types import BinaryType\n",
    "from typing import Iterator\n",
    "import pandas as pd\n",
    "\n",
    "@pandas_udf(returnType=BinaryType())\n",
    "def calculate(iterator: Iterator[pd.Series]) -> Iterator[pd.Series]:\n",
    "    for x in iterator:\n",
    "        z = x.apply(lambda y: b'this is a test')\n",
    "        print(z)\n",
    "        yield z\n",
    "\n",
    "df = spark.createDataFrame([(1, \"John Doe\", 21)], (\"id\", \"name\", \"age\"))\n",
    "df.select(calculate(\"age\")).collect()\n",
    "\n",
    "\n",
    "\n",
    "\n"
   ]
  },
  {
   "cell_type": "code",
   "execution_count": 2,
   "id": "3722706c-04e5-4d56-b120-5f6e19c71ed4",
   "metadata": {},
   "outputs": [
    {
     "name": "stdout",
     "output_type": "stream",
     "text": [
      "Requirement already satisfied: sentence-transformers in /opt/conda/lib/python3.10/site-packages (4.1.0)\n",
      "Requirement already satisfied: Pillow in /opt/conda/lib/python3.10/site-packages (from sentence-transformers) (9.2.0)\n",
      "Requirement already satisfied: torch>=1.11.0 in /opt/conda/lib/python3.10/site-packages (from sentence-transformers) (2.7.0)\n",
      "Requirement already satisfied: scikit-learn in /opt/conda/lib/python3.10/site-packages (from sentence-transformers) (1.1.2)\n",
      "Requirement already satisfied: typing_extensions>=4.5.0 in /opt/conda/lib/python3.10/site-packages (from sentence-transformers) (4.13.2)\n",
      "Requirement already satisfied: huggingface-hub>=0.20.0 in /opt/conda/lib/python3.10/site-packages (from sentence-transformers) (0.30.2)\n",
      "Requirement already satisfied: tqdm in /opt/conda/lib/python3.10/site-packages (from sentence-transformers) (4.64.1)\n",
      "Requirement already satisfied: scipy in /opt/conda/lib/python3.10/site-packages (from sentence-transformers) (1.9.3)\n",
      "Requirement already satisfied: transformers<5.0.0,>=4.41.0 in /opt/conda/lib/python3.10/site-packages (from sentence-transformers) (4.51.3)\n",
      "Requirement already satisfied: packaging>=20.9 in /opt/conda/lib/python3.10/site-packages (from huggingface-hub>=0.20.0->sentence-transformers) (21.3)\n",
      "Requirement already satisfied: requests in /opt/conda/lib/python3.10/site-packages (from huggingface-hub>=0.20.0->sentence-transformers) (2.28.1)\n",
      "Requirement already satisfied: filelock in /opt/conda/lib/python3.10/site-packages (from huggingface-hub>=0.20.0->sentence-transformers) (3.18.0)\n",
      "Requirement already satisfied: fsspec>=2023.5.0 in /opt/conda/lib/python3.10/site-packages (from huggingface-hub>=0.20.0->sentence-transformers) (2025.3.2)\n",
      "Requirement already satisfied: pyyaml>=5.1 in /opt/conda/lib/python3.10/site-packages (from huggingface-hub>=0.20.0->sentence-transformers) (6.0)\n",
      "Requirement already satisfied: networkx in /opt/conda/lib/python3.10/site-packages (from torch>=1.11.0->sentence-transformers) (2.8.7)\n",
      "Requirement already satisfied: nvidia-cuda-runtime-cu12==12.6.77 in /opt/conda/lib/python3.10/site-packages (from torch>=1.11.0->sentence-transformers) (12.6.77)\n",
      "Requirement already satisfied: sympy>=1.13.3 in /opt/conda/lib/python3.10/site-packages (from torch>=1.11.0->sentence-transformers) (1.14.0)\n",
      "Requirement already satisfied: nvidia-cublas-cu12==12.6.4.1 in /opt/conda/lib/python3.10/site-packages (from torch>=1.11.0->sentence-transformers) (12.6.4.1)\n",
      "Requirement already satisfied: nvidia-nccl-cu12==2.26.2 in /opt/conda/lib/python3.10/site-packages (from torch>=1.11.0->sentence-transformers) (2.26.2)\n",
      "Requirement already satisfied: nvidia-cuda-nvrtc-cu12==12.6.77 in /opt/conda/lib/python3.10/site-packages (from torch>=1.11.0->sentence-transformers) (12.6.77)\n",
      "Requirement already satisfied: nvidia-nvtx-cu12==12.6.77 in /opt/conda/lib/python3.10/site-packages (from torch>=1.11.0->sentence-transformers) (12.6.77)\n",
      "Requirement already satisfied: nvidia-cudnn-cu12==9.5.1.17 in /opt/conda/lib/python3.10/site-packages (from torch>=1.11.0->sentence-transformers) (9.5.1.17)\n",
      "Requirement already satisfied: jinja2 in /opt/conda/lib/python3.10/site-packages (from torch>=1.11.0->sentence-transformers) (3.1.2)\n",
      "Requirement already satisfied: triton==3.3.0 in /opt/conda/lib/python3.10/site-packages (from torch>=1.11.0->sentence-transformers) (3.3.0)\n",
      "Requirement already satisfied: nvidia-curand-cu12==10.3.7.77 in /opt/conda/lib/python3.10/site-packages (from torch>=1.11.0->sentence-transformers) (10.3.7.77)\n",
      "Requirement already satisfied: nvidia-cufile-cu12==1.11.1.6 in /opt/conda/lib/python3.10/site-packages (from torch>=1.11.0->sentence-transformers) (1.11.1.6)\n",
      "Requirement already satisfied: nvidia-nvjitlink-cu12==12.6.85 in /opt/conda/lib/python3.10/site-packages (from torch>=1.11.0->sentence-transformers) (12.6.85)\n",
      "Requirement already satisfied: nvidia-cusparselt-cu12==0.6.3 in /opt/conda/lib/python3.10/site-packages (from torch>=1.11.0->sentence-transformers) (0.6.3)\n",
      "Requirement already satisfied: nvidia-cusolver-cu12==11.7.1.2 in /opt/conda/lib/python3.10/site-packages (from torch>=1.11.0->sentence-transformers) (11.7.1.2)\n",
      "Requirement already satisfied: nvidia-cusparse-cu12==12.5.4.2 in /opt/conda/lib/python3.10/site-packages (from torch>=1.11.0->sentence-transformers) (12.5.4.2)\n",
      "Requirement already satisfied: nvidia-cuda-cupti-cu12==12.6.80 in /opt/conda/lib/python3.10/site-packages (from torch>=1.11.0->sentence-transformers) (12.6.80)\n",
      "Requirement already satisfied: nvidia-cufft-cu12==11.3.0.4 in /opt/conda/lib/python3.10/site-packages (from torch>=1.11.0->sentence-transformers) (11.3.0.4)\n",
      "Requirement already satisfied: setuptools>=40.8.0 in /opt/conda/lib/python3.10/site-packages (from triton==3.3.0->torch>=1.11.0->sentence-transformers) (65.5.0)\n",
      "Requirement already satisfied: numpy>=1.17 in /opt/conda/lib/python3.10/site-packages (from transformers<5.0.0,>=4.41.0->sentence-transformers) (1.23.4)\n",
      "Requirement already satisfied: tokenizers<0.22,>=0.21 in /opt/conda/lib/python3.10/site-packages (from transformers<5.0.0,>=4.41.0->sentence-transformers) (0.21.1)\n",
      "Requirement already satisfied: safetensors>=0.4.3 in /opt/conda/lib/python3.10/site-packages (from transformers<5.0.0,>=4.41.0->sentence-transformers) (0.5.3)\n",
      "Requirement already satisfied: regex!=2019.12.17 in /opt/conda/lib/python3.10/site-packages (from transformers<5.0.0,>=4.41.0->sentence-transformers) (2024.11.6)\n",
      "Requirement already satisfied: threadpoolctl>=2.0.0 in /opt/conda/lib/python3.10/site-packages (from scikit-learn->sentence-transformers) (3.1.0)\n",
      "Requirement already satisfied: joblib>=1.0.0 in /opt/conda/lib/python3.10/site-packages (from scikit-learn->sentence-transformers) (1.2.0)\n",
      "Requirement already satisfied: pyparsing!=3.0.5,>=2.0.2 in /opt/conda/lib/python3.10/site-packages (from packaging>=20.9->huggingface-hub>=0.20.0->sentence-transformers) (3.0.9)\n",
      "Requirement already satisfied: mpmath<1.4,>=1.1.0 in /opt/conda/lib/python3.10/site-packages (from sympy>=1.13.3->torch>=1.11.0->sentence-transformers) (1.2.1)\n",
      "Requirement already satisfied: MarkupSafe>=2.0 in /opt/conda/lib/python3.10/site-packages (from jinja2->torch>=1.11.0->sentence-transformers) (2.1.1)\n",
      "Requirement already satisfied: urllib3<1.27,>=1.21.1 in /opt/conda/lib/python3.10/site-packages (from requests->huggingface-hub>=0.20.0->sentence-transformers) (1.26.11)\n",
      "Requirement already satisfied: certifi>=2017.4.17 in /opt/conda/lib/python3.10/site-packages (from requests->huggingface-hub>=0.20.0->sentence-transformers) (2022.9.24)\n",
      "Requirement already satisfied: charset-normalizer<3,>=2 in /opt/conda/lib/python3.10/site-packages (from requests->huggingface-hub>=0.20.0->sentence-transformers) (2.1.1)\n",
      "Requirement already satisfied: idna<4,>=2.5 in /opt/conda/lib/python3.10/site-packages (from requests->huggingface-hub>=0.20.0->sentence-transformers) (3.4)\n",
      "Note: you may need to restart the kernel to use updated packages.\n"
     ]
    }
   ],
   "source": [
    "%pip install sentence-transformers"
   ]
  },
  {
   "cell_type": "code",
   "execution_count": 3,
   "id": "1f0d1121-2598-4fa5-bd11-e9dc41980102",
   "metadata": {},
   "outputs": [
    {
     "name": "stdout",
     "output_type": "stream",
     "text": [
      "[[74.86235809326172, 3.771967887878418], [3.242990732192993, 84.77708435058594]]\n"
     ]
    }
   ],
   "source": [
    "from sentence_transformers import SentenceTransformer\n",
    "\n",
    "model = SentenceTransformer(\"jinaai/jina-embeddings-v3\", trust_remote_code=True)\n",
    "\n",
    "queries = [\n",
    "    \"how much protein should a female eat\",\n",
    "    \"summit define\",\n",
    "]\n",
    "documents = [\n",
    "    \"As a general guideline, the CDC's average requirement of protein for women ages 19 to 70 is 46 grams per day. But, as you can see from this chart, you'll need to increase that if you're expecting or training for a marathon. Check out the chart below to see how much protein you should be eating each day.\",\n",
    "    \"Definition of summit for English Language Learners. : 1  the highest point of a mountain : the top of a mountain. : 2  the highest level. : 3  a meeting or series of meetings between the leaders of two or more governments.\",\n",
    "    \"As a general guideline, the CDC's average requirement of protein for women ages 19 to 70 is 46 grams per day. But, as you can see from this chart, you'll need to increase that if you're expecting or training for a marathon. Check out the chart below to see how much protein you should be eating each day.\",\n",
    "    \"Definition of summit for English Language Learners. : 1  the highest point of a mountain : the top of a mountain. : 2  the highest level. : 3  a meeting or series of meetings between the leaders of two or more governments.\",\n",
    "    \"As a general guideline, the CDC's average requirement of protein for women ages 19 to 70 is 46 grams per day. But, as you can see from this chart, you'll need to increase that if you're expecting or training for a marathon. Check out the chart below to see how much protein you should be eating each day.\",\n",
    "    \"Definition of summit for English Language Learners. : 1  the highest point of a mountain : the top of a mountain. : 2  the highest level. : 3  a meeting or series of meetings between the leaders of two or more governments.\",\n",
    "    \"As a general guideline, the CDC's average requirement of protein for women ages 19 to 70 is 46 grams per day. But, as you can see from this chart, you'll need to increase that if you're expecting or training for a marathon. Check out the chart below to see how much protein you should be eating each day.\",\n",
    "    \"Definition of summit for English Language Learners. : 1  the highest point of a mountain : the top of a mountain. : 2  the highest level. : 3  a meeting or series of meetings between the leaders of two or more governments.\",\n",
    "    \"As a general guideline, the CDC's average requirement of protein for women ages 19 to 70 is 46 grams per day. But, as you can see from this chart, you'll need to increase that if you're expecting or training for a marathon. Check out the chart below to see how much protein you should be eating each day.\",\n",
    "    \"Definition of summit for English Language Learners. : 1  the highest point of a mountain : the top of a mountain. : 2  the highest level. : 3  a meeting or series of meetings between the leaders of two or more governments.\",\n",
    "    \"As a general guideline, the CDC's average requirement of protein for women ages 19 to 70 is 46 grams per day. But, as you can see from this chart, you'll need to increase that if you're expecting or training for a marathon. Check out the chart below to see how much protein you should be eating each day.\",\n",
    "    \"Definition of summit for English Language Learners. : 1  the highest point of a mountain : the top of a mountain. : 2  the highest level. : 3  a meeting or series of meetings between the leaders of two or more governments.\",\n",
    "]\n",
    "\n",
    "query_embeddings = model.encode(queries, task='retrieval.query')\n",
    "document_embeddings = model.encode(documents, task='retrieval.passage')\n",
    "\n",
    "scores = (query_embeddings @ document_embeddings.T) * 100\n",
    "print(scores.tolist())"
   ]
  },
  {
   "cell_type": "code",
   "execution_count": 25,
   "id": "2dd170d5-36c5-4e21-8111-edf00fb44ece",
   "metadata": {},
   "outputs": [
    {
     "data": {
      "text/plain": [
       "[array([-0.02135767,  0.01629463,  0.01499815, ..., -0.01806397,\n",
       "         0.00103342,  0.05147714], dtype=float32),\n",
       " array([ 0.02131547, -0.05393998,  0.01997414, ...,  0.00242431,\n",
       "         0.01255975,  0.00113424], dtype=float32)]"
      ]
     },
     "execution_count": 25,
     "metadata": {},
     "output_type": "execute_result"
    }
   ],
   "source": [
    "list(document_embeddings)"
   ]
  },
  {
   "cell_type": "code",
   "execution_count": 6,
   "id": "136582b5-cf93-42aa-85a8-710885b02731",
   "metadata": {},
   "outputs": [
    {
     "name": "stdout",
     "output_type": "stream",
     "text": [
      "1.03 s ± 134 ms per loop (mean ± std. dev. of 7 runs, 1 loop each)\n"
     ]
    }
   ],
   "source": [
    "%timeit query_embeddings = model.encode(queries, task='retrieval.query')"
   ]
  },
  {
   "cell_type": "code",
   "execution_count": 12,
   "id": "f85ad354-b604-4076-9ea6-ae6e15a26cfe",
   "metadata": {},
   "outputs": [
    {
     "name": "stdout",
     "output_type": "stream",
     "text": [
      "3.36 s ± 289 ms per loop (mean ± std. dev. of 7 runs, 1 loop each)\n"
     ]
    }
   ],
   "source": [
    "%timeit document_embeddings = model.encode(documents, task='retrieval.passage')"
   ]
  },
  {
   "cell_type": "code",
   "execution_count": 10,
   "id": "dae1c4d4-0e77-4847-ab91-566527008f40",
   "metadata": {},
   "outputs": [
    {
     "data": {
      "text/plain": [
       "(2, 1024)"
      ]
     },
     "execution_count": 10,
     "metadata": {},
     "output_type": "execute_result"
    }
   ],
   "source": [
    "document_embeddings.shape"
   ]
  },
  {
   "cell_type": "code",
   "execution_count": 11,
   "id": "94be0e79-1eab-4484-a0b0-ddb3e104eb5b",
   "metadata": {},
   "outputs": [],
   "source": [
    "documents = [\n",
    "    \"As a general guideline, the CDC's average requirement of protein for women ages 19 to 70 is 46 grams per day. But, as you can see from this chart, you'll need to increase that if you're expecting or training for a marathon. Check out the chart below to see how much protein you should be eating each day.\",\n",
    "    \"Definition of summit for English Language Learners. : 1  the highest point of a mountain : the top of a mountain. : 2  the highest level. : 3  a meeting or series of meetings between the leaders of two or more governments.\",\n",
    "    \"As a general guideline, the CDC's average requirement of protein for women ages 19 to 70 is 46 grams per day. But, as you can see from this chart, you'll need to increase that if you're expecting or training for a marathon. Check out the chart below to see how much protein you should be eating each day.\",\n",
    "    \"Definition of summit for English Language Learners. : 1  the highest point of a mountain : the top of a mountain. : 2  the highest level. : 3  a meeting or series of meetings between the leaders of two or more governments.\",\n",
    "    \"As a general guideline, the CDC's average requirement of protein for women ages 19 to 70 is 46 grams per day. But, as you can see from this chart, you'll need to increase that if you're expecting or training for a marathon. Check out the chart below to see how much protein you should be eating each day.\",\n",
    "    \"Definition of summit for English Language Learners. : 1  the highest point of a mountain : the top of a mountain. : 2  the highest level. : 3  a meeting or series of meetings between the leaders of two or more governments.\",\n",
    "    \"As a general guideline, the CDC's average requirement of protein for women ages 19 to 70 is 46 grams per day. But, as you can see from this chart, you'll need to increase that if you're expecting or training for a marathon. Check out the chart below to see how much protein you should be eating each day.\",\n",
    "    \"Definition of summit for English Language Learners. : 1  the highest point of a mountain : the top of a mountain. : 2  the highest level. : 3  a meeting or series of meetings between the leaders of two or more governments.\",\n",
    "    \"As a general guideline, the CDC's average requirement of protein for women ages 19 to 70 is 46 grams per day. But, as you can see from this chart, you'll need to increase that if you're expecting or training for a marathon. Check out the chart below to see how much protein you should be eating each day.\",\n",
    "    \"Definition of summit for English Language Learners. : 1  the highest point of a mountain : the top of a mountain. : 2  the highest level. : 3  a meeting or series of meetings between the leaders of two or more governments.\",\n",
    "    \"As a general guideline, the CDC's average requirement of protein for women ages 19 to 70 is 46 grams per day. But, as you can see from this chart, you'll need to increase that if you're expecting or training for a marathon. Check out the chart below to see how much protein you should be eating each day.\",\n",
    "    \"Definition of summit for English Language Learners. : 1  the highest point of a mountain : the top of a mountain. : 2  the highest level. : 3  a meeting or series of meetings between the leaders of two or more governments.\",\n",
    "]"
   ]
  },
  {
   "cell_type": "code",
   "execution_count": 6,
   "id": "4999a072-d62a-45cb-a35b-d196bd14592e",
   "metadata": {},
   "outputs": [
    {
     "ename": "NameError",
     "evalue": "name 'DeltaTable' is not defined",
     "output_type": "error",
     "traceback": [
      "\u001b[0;31m---------------------------------------------------------------------------\u001b[0m",
      "\u001b[0;31mNameError\u001b[0m                                 Traceback (most recent call last)",
      "Cell \u001b[0;32mIn [6], line 2\u001b[0m\n\u001b[1;32m      1\u001b[0m master_companies_table \u001b[38;5;241m=\u001b[39m \u001b[38;5;124m\"\u001b[39m\u001b[38;5;124ms3a://salessmart-warehouse/table/master/company\u001b[39m\u001b[38;5;124m\"\u001b[39m\n\u001b[0;32m----> 2\u001b[0m table \u001b[38;5;241m=\u001b[39m \u001b[43mDeltaTable\u001b[49m\u001b[38;5;241m.\u001b[39mforPath(spark, master_companies_table)\n\u001b[1;32m      3\u001b[0m table_df \u001b[38;5;241m=\u001b[39m table\u001b[38;5;241m.\u001b[39mtoDF()\n",
      "\u001b[0;31mNameError\u001b[0m: name 'DeltaTable' is not defined"
     ]
    }
   ],
   "source": [
    "from \n",
    "master_companies_table = \"s3a://salessmart-warehouse/table/master/company\"\n",
    "table = DeltaTable.forPath(spark, master_companies_table)\n",
    "table_df = table.toDF()"
   ]
  },
  {
   "cell_type": "markdown",
   "id": "82945fc8-6314-4066-af9c-5bfd8db57e97",
   "metadata": {
    "tags": []
   },
   "source": [
    "# EMBEDDING"
   ]
  },
  {
   "cell_type": "code",
   "execution_count": 5,
   "id": "b6bb996d-3cdd-4031-a29d-7d132aa7f2f3",
   "metadata": {},
   "outputs": [
    {
     "ename": "NameError",
     "evalue": "name 'table_df' is not defined",
     "output_type": "error",
     "traceback": [
      "\u001b[0;31m---------------------------------------------------------------------------\u001b[0m",
      "\u001b[0;31mNameError\u001b[0m                                 Traceback (most recent call last)",
      "Cell \u001b[0;32mIn [5], line 8\u001b[0m\n\u001b[1;32m      3\u001b[0m \u001b[38;5;28;01mimport\u001b[39;00m \u001b[38;5;21;01mpyarrow\u001b[39;00m \u001b[38;5;28;01mas\u001b[39;00m \u001b[38;5;21;01mpa\u001b[39;00m\n\u001b[1;32m      5\u001b[0m fs \u001b[38;5;241m=\u001b[39m S3FileSystem(access_key\u001b[38;5;241m=\u001b[39m\u001b[38;5;124m'\u001b[39m\u001b[38;5;124mB53zPFuC9ScfhJV9\u001b[39m\u001b[38;5;124m'\u001b[39m, secret_key\u001b[38;5;241m=\u001b[39m\u001b[38;5;124m'\u001b[39m\u001b[38;5;124mh7jAiZty4JqAGBSEN0M1LqgHyWc18otP\u001b[39m\u001b[38;5;124m'\u001b[39m, scheme\u001b[38;5;241m=\u001b[39m\u001b[38;5;124m'\u001b[39m\u001b[38;5;124mhttp\u001b[39m\u001b[38;5;124m'\u001b[39m, endpoint_override\u001b[38;5;241m=\u001b[39m\u001b[38;5;124m'\u001b[39m\u001b[38;5;124m10.0.0.21:32222\u001b[39m\u001b[38;5;124m'\u001b[39m)\n\u001b[1;32m      7\u001b[0m df \u001b[38;5;241m=\u001b[39m (\n\u001b[0;32m----> 8\u001b[0m     \u001b[43mtable_df\u001b[49m\n\u001b[1;32m      9\u001b[0m         \u001b[38;5;241m.\u001b[39mselect(\u001b[38;5;124m'\u001b[39m\u001b[38;5;124mcorporate_number\u001b[39m\u001b[38;5;124m'\u001b[39m, \u001b[38;5;124m'\u001b[39m\u001b[38;5;124mname\u001b[39m\u001b[38;5;124m'\u001b[39m, \u001b[38;5;124m'\u001b[39m\u001b[38;5;124mbusiness_content\u001b[39m\u001b[38;5;124m'\u001b[39m, \u001b[38;5;124m'\u001b[39m\u001b[38;5;124mmeta_keywords\u001b[39m\u001b[38;5;124m'\u001b[39m, \u001b[38;5;124m'\u001b[39m\u001b[38;5;124mmeta_descriptions\u001b[39m\u001b[38;5;124m'\u001b[39m, \u001b[38;5;124m'\u001b[39m\u001b[38;5;124maddress\u001b[39m\u001b[38;5;124m'\u001b[39m)\n\u001b[1;32m     10\u001b[0m         \u001b[38;5;241m.\u001b[39mfilter(table_df[\u001b[38;5;124m'\u001b[39m\u001b[38;5;124mbusiness_content\u001b[39m\u001b[38;5;124m'\u001b[39m]\u001b[38;5;241m.\u001b[39misNotNull())\n\u001b[1;32m     11\u001b[0m         \u001b[38;5;241m.\u001b[39mrepartition(\u001b[38;5;241m8000\u001b[39m)\n\u001b[1;32m     12\u001b[0m )\n\u001b[1;32m     14\u001b[0m ids \u001b[38;5;241m=\u001b[39m []\n\u001b[1;32m     15\u001b[0m contents \u001b[38;5;241m=\u001b[39m []\n",
      "\u001b[0;31mNameError\u001b[0m: name 'table_df' is not defined"
     ]
    }
   ],
   "source": [
    "from pyarrow.fs import S3FileSystem\n",
    "import pyarrow.parquet as pq\n",
    "import pyarrow as pa\n",
    "\n",
    "fs = S3FileSystem(access_key='B53zPFuC9ScfhJV9', secret_key='h7jAiZty4JqAGBSEN0M1LqgHyWc18otP', scheme='http', endpoint_override='10.0.0.21:32222')\n",
    "\n",
    "df = (\n",
    "    table_df\n",
    "        .select('corporate_number', 'name', 'business_content', 'meta_keywords', 'meta_descriptions', 'address')\n",
    "        .filter(table_df['business_content'].isNotNull())\n",
    "        .repartition(8000)\n",
    ")\n",
    "\n",
    "ids = []\n",
    "contents = []\n",
    "j=0\n",
    "for i, row in enumerate(df.toLocalIterator(True)):\n",
    "    ids.append(row['corporate_number'])\n",
    "    content = f\"企業名：{row['name'] or ''}\\n住所：{row['address'] or ''}\\n企業概要：{row['business_content'] or ''}\\nメタキーワード：{row['meta_keywords'] or ''}\\nメタディスクリプション：{row['meta_descriptions'] or ''}\"\n",
    "    contents.append(content)\n",
    "    if len(ids) >= 128:\n",
    "        print(f'Processing file: {j}')\n",
    "        document_embeddings = model.encode(contents, task='retrieval.passage')\n",
    "        table = pa.table({'corporate_number': ids,\n",
    "                          'embedding': list(document_embeddings)})\n",
    "        pq.write_table(table, f'salessmart-warehouse/test_company_embedding/{j}.parquet',filesystem=fs)\n",
    "        j+=1\n",
    "        ids = []\n",
    "        contents = []\n"
   ]
  },
  {
   "cell_type": "code",
   "execution_count": 3,
   "id": "d1057bc8-5598-4c5d-a075-375293ba48b3",
   "metadata": {},
   "outputs": [],
   "source": [
    "t = pq.read_table(f'salessmart-warehouse/test_company_embedding/0.parquet', filesystem=fs)"
   ]
  },
  {
   "cell_type": "code",
   "execution_count": 4,
   "id": "784506ad-c734-49a2-bd39-15a7f0d0bab1",
   "metadata": {},
   "outputs": [
    {
     "data": {
      "text/plain": [
       "corporate_number: string\n",
       "embedding: list<item: float>\n",
       "  child 0, item: float"
      ]
     },
     "execution_count": 4,
     "metadata": {},
     "output_type": "execute_result"
    }
   ],
   "source": [
    "t.schema"
   ]
  }
 ],
 "metadata": {
  "kernelspec": {
   "display_name": "Python 3 (ipykernel)",
   "language": "python",
   "name": "python3"
  },
  "language_info": {
   "codemirror_mode": {
    "name": "ipython",
    "version": 3
   },
   "file_extension": ".py",
   "mimetype": "text/x-python",
   "name": "python",
   "nbconvert_exporter": "python",
   "pygments_lexer": "ipython3",
   "version": "3.10.6"
  }
 },
 "nbformat": 4,
 "nbformat_minor": 5
}
